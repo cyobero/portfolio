{
 "cells": [
  {
   "cell_type": "markdown",
   "id": "140abab2",
   "metadata": {},
   "source": [
    "# Crypto Analysis\n",
    "\n",
    "Analyzing the returns of a basket of cryptocurrencies. "
   ]
  },
  {
   "cell_type": "code",
   "execution_count": 10,
   "id": "b0cc52c5",
   "metadata": {},
   "outputs": [
    {
     "name": "stdout",
     "output_type": "stream",
     "text": [
      "Requirement already satisfied: yfinance in /home/czar/.pyenv/django/lib/python3.9/site-packages (0.1.70)\n",
      "Requirement already satisfied: plotly in /home/czar/.pyenv/django/lib/python3.9/site-packages (5.6.0)\n",
      "Requirement already satisfied: numpy>=1.15 in /home/czar/.pyenv/django/lib/python3.9/site-packages (from yfinance) (1.22.3)\n",
      "Requirement already satisfied: requests>=2.26 in /home/czar/.pyenv/django/lib/python3.9/site-packages (from yfinance) (2.27.1)\n",
      "Requirement already satisfied: lxml>=4.5.1 in /home/czar/.pyenv/django/lib/python3.9/site-packages (from yfinance) (4.8.0)\n",
      "Requirement already satisfied: pandas>=0.24.0 in /home/czar/.pyenv/django/lib/python3.9/site-packages (from yfinance) (1.4.1)\n",
      "Requirement already satisfied: multitasking>=0.0.7 in /home/czar/.pyenv/django/lib/python3.9/site-packages (from yfinance) (0.0.10)\n",
      "Requirement already satisfied: six in /home/czar/.pyenv/django/lib/python3.9/site-packages (from plotly) (1.16.0)\n",
      "Requirement already satisfied: tenacity>=6.2.0 in /home/czar/.pyenv/django/lib/python3.9/site-packages (from plotly) (8.0.1)\n",
      "Requirement already satisfied: python-dateutil>=2.8.1 in /home/czar/.pyenv/django/lib/python3.9/site-packages (from pandas>=0.24.0->yfinance) (2.8.2)\n",
      "Requirement already satisfied: pytz>=2020.1 in /home/czar/.pyenv/django/lib/python3.9/site-packages (from pandas>=0.24.0->yfinance) (2022.1)\n",
      "Requirement already satisfied: idna<4,>=2.5 in /home/czar/.pyenv/django/lib/python3.9/site-packages (from requests>=2.26->yfinance) (3.3)\n",
      "Requirement already satisfied: urllib3<1.27,>=1.21.1 in /home/czar/.pyenv/django/lib/python3.9/site-packages (from requests>=2.26->yfinance) (1.26.9)\n",
      "Requirement already satisfied: certifi>=2017.4.17 in /home/czar/.pyenv/django/lib/python3.9/site-packages (from requests>=2.26->yfinance) (2021.10.8)\n",
      "Requirement already satisfied: charset-normalizer~=2.0.0 in /home/czar/.pyenv/django/lib/python3.9/site-packages (from requests>=2.26->yfinance) (2.0.12)\n",
      "\u001b[33mWARNING: You are using pip version 22.0.3; however, version 22.0.4 is available.\n",
      "You should consider upgrading via the '/home/czar/.pyenv/django/bin/python -m pip install --upgrade pip' command.\u001b[0m\u001b[33m\n",
      "\u001b[0m"
     ]
    }
   ],
   "source": [
    "!pip install yfinance plotly\n",
    "\n",
    "import pandas as pd\n",
    "import numpy as np\n",
    "import matplotlib.pyplot as plt\n",
    "import plotly.express as px\n",
    "import seaborn as sns\n",
    "import yfinance as yf"
   ]
  },
  {
   "cell_type": "markdown",
   "id": "4e1c72ac",
   "metadata": {},
   "source": [
    "### Retrieve Data"
   ]
  },
  {
   "cell_type": "code",
   "execution_count": 11,
   "id": "e585d2ed",
   "metadata": {},
   "outputs": [
    {
     "name": "stdout",
     "output_type": "stream",
     "text": [
      "[*********************100%***********************]  4 of 4 completed\n"
     ]
    }
   ],
   "source": [
    "symbols = \"BTC-USD ETH-USD SHIB-USD XRP-USD\"\n",
    "\n",
    "cryptos = yf.Tickers(symbols).history(interval='1wk', period='1y')['Close']\n",
    "df = 100 * np.log(1 + cryptos.pct_change()).dropna()"
   ]
  },
  {
   "cell_type": "markdown",
   "id": "6318f06f",
   "metadata": {},
   "source": [
    "### Summary Statistics"
   ]
  },
  {
   "cell_type": "code",
   "execution_count": 12,
   "id": "fda9b15e",
   "metadata": {},
   "outputs": [
    {
     "data": {
      "text/html": [
       "<div>\n",
       "<style scoped>\n",
       "    .dataframe tbody tr th:only-of-type {\n",
       "        vertical-align: middle;\n",
       "    }\n",
       "\n",
       "    .dataframe tbody tr th {\n",
       "        vertical-align: top;\n",
       "    }\n",
       "\n",
       "    .dataframe thead th {\n",
       "        text-align: right;\n",
       "    }\n",
       "</style>\n",
       "<table border=\"1\" class=\"dataframe\">\n",
       "  <thead>\n",
       "    <tr style=\"text-align: right;\">\n",
       "      <th></th>\n",
       "      <th>BTC-USD</th>\n",
       "      <th>ETH-USD</th>\n",
       "      <th>SHIB-USD</th>\n",
       "      <th>XRP-USD</th>\n",
       "    </tr>\n",
       "  </thead>\n",
       "  <tbody>\n",
       "    <tr>\n",
       "      <th>count</th>\n",
       "      <td>50.000000</td>\n",
       "      <td>50.000000</td>\n",
       "      <td>50.000000</td>\n",
       "      <td>50.000000</td>\n",
       "    </tr>\n",
       "    <tr>\n",
       "      <th>mean</th>\n",
       "      <td>-0.402539</td>\n",
       "      <td>0.732408</td>\n",
       "      <td>5.037580</td>\n",
       "      <td>-1.017776</td>\n",
       "    </tr>\n",
       "    <tr>\n",
       "      <th>std</th>\n",
       "      <td>9.542623</td>\n",
       "      <td>13.775106</td>\n",
       "      <td>41.168926</td>\n",
       "      <td>16.281304</td>\n",
       "    </tr>\n",
       "    <tr>\n",
       "      <th>min</th>\n",
       "      <td>-28.973520</td>\n",
       "      <td>-53.096849</td>\n",
       "      <td>-81.093025</td>\n",
       "      <td>-60.024092</td>\n",
       "    </tr>\n",
       "    <tr>\n",
       "      <th>25%</th>\n",
       "      <td>-7.048671</td>\n",
       "      <td>-7.444705</td>\n",
       "      <td>-13.353138</td>\n",
       "      <td>-7.764980</td>\n",
       "    </tr>\n",
       "    <tr>\n",
       "      <th>50%</th>\n",
       "      <td>1.645874</td>\n",
       "      <td>0.172265</td>\n",
       "      <td>0.000000</td>\n",
       "      <td>-1.304572</td>\n",
       "    </tr>\n",
       "    <tr>\n",
       "      <th>75%</th>\n",
       "      <td>6.820449</td>\n",
       "      <td>10.606729</td>\n",
       "      <td>12.959430</td>\n",
       "      <td>6.695986</td>\n",
       "    </tr>\n",
       "    <tr>\n",
       "      <th>max</th>\n",
       "      <td>14.465081</td>\n",
       "      <td>28.584349</td>\n",
       "      <td>207.944154</td>\n",
       "      <td>50.329418</td>\n",
       "    </tr>\n",
       "  </tbody>\n",
       "</table>\n",
       "</div>"
      ],
      "text/plain": [
       "         BTC-USD    ETH-USD    SHIB-USD    XRP-USD\n",
       "count  50.000000  50.000000   50.000000  50.000000\n",
       "mean   -0.402539   0.732408    5.037580  -1.017776\n",
       "std     9.542623  13.775106   41.168926  16.281304\n",
       "min   -28.973520 -53.096849  -81.093025 -60.024092\n",
       "25%    -7.048671  -7.444705  -13.353138  -7.764980\n",
       "50%     1.645874   0.172265    0.000000  -1.304572\n",
       "75%     6.820449  10.606729   12.959430   6.695986\n",
       "max    14.465081  28.584349  207.944154  50.329418"
      ]
     },
     "execution_count": 12,
     "metadata": {},
     "output_type": "execute_result"
    }
   ],
   "source": [
    "df.describe()"
   ]
  },
  {
   "cell_type": "code",
   "execution_count": 13,
   "id": "9bf5ad18",
   "metadata": {},
   "outputs": [
    {
     "data": {
      "application/vnd.plotly.v1+json": {
       "config": {
        "plotlyServerURL": "https://plot.ly"
       },
       "data": [
        {
         "hovertemplate": "variable=BTC-USD<br>Date=%{x}<br>value=%{y}<extra></extra>",
         "legendgroup": "BTC-USD",
         "line": {
          "color": "#636efa",
          "dash": "solid"
         },
         "marker": {
          "symbol": "circle"
         },
         "mode": "lines",
         "name": "BTC-USD",
         "orientation": "v",
         "showlegend": true,
         "type": "scatter",
         "x": [
          "2021-04-19T00:00:00",
          "2021-04-26T00:00:00",
          "2021-05-03T00:00:00",
          "2021-05-10T00:00:00",
          "2021-05-17T00:00:00",
          "2021-05-24T00:00:00",
          "2021-05-31T00:00:00",
          "2021-06-07T00:00:00",
          "2021-06-14T00:00:00",
          "2021-06-21T00:00:00",
          "2021-06-28T00:00:00",
          "2021-07-05T00:00:00",
          "2021-07-12T00:00:00",
          "2021-07-19T00:00:00",
          "2021-07-26T00:00:00",
          "2021-08-02T00:00:00",
          "2021-08-09T00:00:00",
          "2021-08-16T00:00:00",
          "2021-08-23T00:00:00",
          "2021-08-30T00:00:00",
          "2021-09-06T00:00:00",
          "2021-09-13T00:00:00",
          "2021-09-20T00:00:00",
          "2021-09-27T00:00:00",
          "2021-10-04T00:00:00",
          "2021-10-11T00:00:00",
          "2021-10-18T00:00:00",
          "2021-10-25T00:00:00",
          "2021-11-01T00:00:00",
          "2021-11-08T00:00:00",
          "2021-11-15T00:00:00",
          "2021-11-22T00:00:00",
          "2021-11-29T00:00:00",
          "2021-12-06T00:00:00",
          "2021-12-13T00:00:00",
          "2021-12-20T00:00:00",
          "2021-12-27T00:00:00",
          "2022-01-03T00:00:00",
          "2022-01-10T00:00:00",
          "2022-01-17T00:00:00",
          "2022-01-24T00:00:00",
          "2022-01-31T00:00:00",
          "2022-02-07T00:00:00",
          "2022-02-14T00:00:00",
          "2022-02-21T00:00:00",
          "2022-02-28T00:00:00",
          "2022-03-07T00:00:00",
          "2022-03-14T00:00:00",
          "2022-03-21T00:00:00",
          "2022-03-27T00:00:00"
         ],
         "xaxis": "x",
         "y": [
          -13.729757099174645,
          0.7353238251041798,
          3.523578559969815,
          -19.06977904044232,
          -48.043299440132444,
          -45.46668143790819,
          -44.95158750577629,
          -36.313696169731635,
          -45.41016986825201,
          -48.39172130025791,
          -46.566791595521906,
          -49.580465243753565,
          -56.98386922595433,
          -46.39009833171315,
          -34.09530593986778,
          -24.961384987579276,
          -17.805749467567328,
          -13.084149950341422,
          -14.086324154774191,
          -8.27143530339712,
          -19.918880369595797,
          -17.353577934941452,
          -26.316654054647685,
          -15.384663120177692,
          -2.603326769159139,
          9.070393943401267,
          8.053470405609318,
          8.688436548868141,
          11.910691369314089,
          15.233907277240233,
          4.375410421851944,
          1.8196010904453948,
          -12.988506872035593,
          -11.521688702864969,
          -18.53102988395969,
          -10.112102725164196,
          -17.173884198263835,
          -29.364200421233114,
          -26.53597180876208,
          -43.80261320424374,
          -39.37892542950973,
          -28.176311536191093,
          -28.684333188400828,
          -38.03303948295322,
          -39.92850657554485,
          -38.06269290963817,
          -39.558257539879136,
          -30.960631457004688,
          -23.369688119788446,
          -20.1269629809129
         ],
         "yaxis": "y"
        },
        {
         "hovertemplate": "variable=ETH-USD<br>Date=%{x}<br>value=%{y}<extra></extra>",
         "legendgroup": "ETH-USD",
         "line": {
          "color": "#EF553B",
          "dash": "solid"
         },
         "marker": {
          "symbol": "circle"
         },
         "mode": "lines",
         "name": "ETH-USD",
         "orientation": "v",
         "showlegend": true,
         "type": "scatter",
         "x": [
          "2021-04-19T00:00:00",
          "2021-04-26T00:00:00",
          "2021-05-03T00:00:00",
          "2021-05-10T00:00:00",
          "2021-05-17T00:00:00",
          "2021-05-24T00:00:00",
          "2021-05-31T00:00:00",
          "2021-06-07T00:00:00",
          "2021-06-14T00:00:00",
          "2021-06-21T00:00:00",
          "2021-06-28T00:00:00",
          "2021-07-05T00:00:00",
          "2021-07-12T00:00:00",
          "2021-07-19T00:00:00",
          "2021-07-26T00:00:00",
          "2021-08-02T00:00:00",
          "2021-08-09T00:00:00",
          "2021-08-16T00:00:00",
          "2021-08-23T00:00:00",
          "2021-08-30T00:00:00",
          "2021-09-06T00:00:00",
          "2021-09-13T00:00:00",
          "2021-09-20T00:00:00",
          "2021-09-27T00:00:00",
          "2021-10-04T00:00:00",
          "2021-10-11T00:00:00",
          "2021-10-18T00:00:00",
          "2021-10-25T00:00:00",
          "2021-11-01T00:00:00",
          "2021-11-08T00:00:00",
          "2021-11-15T00:00:00",
          "2021-11-22T00:00:00",
          "2021-11-29T00:00:00",
          "2021-12-06T00:00:00",
          "2021-12-13T00:00:00",
          "2021-12-20T00:00:00",
          "2021-12-27T00:00:00",
          "2022-01-03T00:00:00",
          "2022-01-10T00:00:00",
          "2022-01-17T00:00:00",
          "2022-01-24T00:00:00",
          "2022-01-31T00:00:00",
          "2022-02-07T00:00:00",
          "2022-02-14T00:00:00",
          "2022-02-21T00:00:00",
          "2022-02-28T00:00:00",
          "2022-03-07T00:00:00",
          "2022-03-14T00:00:00",
          "2022-03-21T00:00:00",
          "2022-03-27T00:00:00"
         ],
         "xaxis": "x",
         "y": [
          3.4670373805053987,
          27.730502157332435,
          56.31485131782681,
          47.22603756320365,
          -5.870810993494317,
          6.622424176051304,
          19.362921671665255,
          11.444484477517163,
          0.4116225750614486,
          -12.265847385588321,
          3.71131585380018,
          -4.454772790286217,
          -16.568675235914334,
          -2.0668263137848832,
          13.553354747813351,
          29.798249208291022,
          39.19035823063919,
          37.1029135428275,
          36.63568385004383,
          56.90586642652842,
          42.15548328523288,
          39.760961711864915,
          31.395805582383815,
          42.39636000203195,
          42.61535217377511,
          54.21238786137361,
          60.28352364883762,
          65.0640825315203,
          72.53178533355387,
          72.65732343736416,
          64.63543681888316,
          65.21274259603656,
          62.94881944414603,
          61.415815780946225,
          56.15558879344005,
          59.77893967522954,
          53.75542976376768,
          34.46633057796356,
          40.40385877666075,
          12.501213941398852,
          15.16469397187976,
          31.239285649195878,
          25.379522698877555,
          16.127290522482838,
          15.866486846087389,
          13.28699365394285,
          11.864308958484804,
          24.578527457227757,
          34.003778707794496,
          36.620400263443535
         ],
         "yaxis": "y"
        },
        {
         "hovertemplate": "variable=SHIB-USD<br>Date=%{x}<br>value=%{y}<extra></extra>",
         "legendgroup": "SHIB-USD",
         "line": {
          "color": "#00cc96",
          "dash": "solid"
         },
         "marker": {
          "symbol": "circle"
         },
         "mode": "lines",
         "name": "SHIB-USD",
         "orientation": "v",
         "showlegend": true,
         "type": "scatter",
         "x": [
          "2021-04-19T00:00:00",
          "2021-04-26T00:00:00",
          "2021-05-03T00:00:00",
          "2021-05-10T00:00:00",
          "2021-05-17T00:00:00",
          "2021-05-24T00:00:00",
          "2021-05-31T00:00:00",
          "2021-06-07T00:00:00",
          "2021-06-14T00:00:00",
          "2021-06-21T00:00:00",
          "2021-06-28T00:00:00",
          "2021-07-05T00:00:00",
          "2021-07-12T00:00:00",
          "2021-07-19T00:00:00",
          "2021-07-26T00:00:00",
          "2021-08-02T00:00:00",
          "2021-08-09T00:00:00",
          "2021-08-16T00:00:00",
          "2021-08-23T00:00:00",
          "2021-08-30T00:00:00",
          "2021-09-06T00:00:00",
          "2021-09-13T00:00:00",
          "2021-09-20T00:00:00",
          "2021-09-27T00:00:00",
          "2021-10-04T00:00:00",
          "2021-10-11T00:00:00",
          "2021-10-18T00:00:00",
          "2021-10-25T00:00:00",
          "2021-11-01T00:00:00",
          "2021-11-08T00:00:00",
          "2021-11-15T00:00:00",
          "2021-11-22T00:00:00",
          "2021-11-29T00:00:00",
          "2021-12-06T00:00:00",
          "2021-12-13T00:00:00",
          "2021-12-20T00:00:00",
          "2021-12-27T00:00:00",
          "2022-01-03T00:00:00",
          "2022-01-10T00:00:00",
          "2022-01-17T00:00:00",
          "2022-01-24T00:00:00",
          "2022-01-31T00:00:00",
          "2022-02-07T00:00:00",
          "2022-02-14T00:00:00",
          "2022-02-21T00:00:00",
          "2022-02-28T00:00:00",
          "2022-03-07T00:00:00",
          "2022-03-14T00:00:00",
          "2022-03-21T00:00:00",
          "2022-03-27T00:00:00"
         ],
         "xaxis": "x",
         "y": [
          -69.31471805599453,
          0,
          207.94415416798358,
          219.7224615231831,
          138.62943611198904,
          138.62943611198904,
          150.40774346718857,
          125.27629847363444,
          138.62943611198904,
          138.62943611198904,
          150.40774346718857,
          138.62943611198904,
          125.27629847363444,
          109.86123265637214,
          109.86123265637214,
          125.27629847363445,
          150.4077434671886,
          138.62943611198907,
          125.27629847363447,
          138.62943611198907,
          125.27629847363447,
          138.62943611198907,
          125.27629847363447,
          150.4077434671886,
          256.49493487163954,
          263.9057345856236,
          289.0371795791777,
          351.1545454102387,
          334.990410921417,
          327.7144730847142,
          309.1042463693483,
          297.0414433504182,
          289.03717957917763,
          291.77707781735364,
          274.08400129232484,
          294.4438937281815,
          283.3213364118599,
          263.9057345856235,
          274.08400129232484,
          239.7895283133537,
          235.13752517498182,
          263.90573458562346,
          270.8050178364841,
          256.49493487163943,
          244.2347060083733,
          248.49066876836113,
          239.78952831335366,
          244.2347060083733,
          248.49066876836113,
          251.87899709814383
         ],
         "yaxis": "y"
        },
        {
         "hovertemplate": "variable=XRP-USD<br>Date=%{x}<br>value=%{y}<extra></extra>",
         "legendgroup": "XRP-USD",
         "line": {
          "color": "#ab63fa",
          "dash": "solid"
         },
         "marker": {
          "symbol": "circle"
         },
         "mode": "lines",
         "name": "XRP-USD",
         "orientation": "v",
         "showlegend": true,
         "type": "scatter",
         "x": [
          "2021-04-19T00:00:00",
          "2021-04-26T00:00:00",
          "2021-05-03T00:00:00",
          "2021-05-10T00:00:00",
          "2021-05-17T00:00:00",
          "2021-05-24T00:00:00",
          "2021-05-31T00:00:00",
          "2021-06-07T00:00:00",
          "2021-06-14T00:00:00",
          "2021-06-21T00:00:00",
          "2021-06-28T00:00:00",
          "2021-07-05T00:00:00",
          "2021-07-12T00:00:00",
          "2021-07-19T00:00:00",
          "2021-07-26T00:00:00",
          "2021-08-02T00:00:00",
          "2021-08-09T00:00:00",
          "2021-08-16T00:00:00",
          "2021-08-23T00:00:00",
          "2021-08-30T00:00:00",
          "2021-09-06T00:00:00",
          "2021-09-13T00:00:00",
          "2021-09-20T00:00:00",
          "2021-09-27T00:00:00",
          "2021-10-04T00:00:00",
          "2021-10-11T00:00:00",
          "2021-10-18T00:00:00",
          "2021-10-25T00:00:00",
          "2021-11-01T00:00:00",
          "2021-11-08T00:00:00",
          "2021-11-15T00:00:00",
          "2021-11-22T00:00:00",
          "2021-11-29T00:00:00",
          "2021-12-06T00:00:00",
          "2021-12-13T00:00:00",
          "2021-12-20T00:00:00",
          "2021-12-27T00:00:00",
          "2022-01-03T00:00:00",
          "2022-01-10T00:00:00",
          "2022-01-17T00:00:00",
          "2022-01-24T00:00:00",
          "2022-01-31T00:00:00",
          "2022-02-07T00:00:00",
          "2022-02-14T00:00:00",
          "2022-02-21T00:00:00",
          "2022-02-28T00:00:00",
          "2022-03-07T00:00:00",
          "2022-03-14T00:00:00",
          "2022-03-21T00:00:00",
          "2022-03-27T00:00:00"
         ],
         "xaxis": "x",
         "y": [
          -30.900065962856065,
          10.562998938207503,
          8.797386635506628,
          3.2611794153832756,
          -56.76291305115352,
          -43.87913795856353,
          -39.701514214444664,
          -46.49962648228313,
          -59.386438826226204,
          -77.62753586667552,
          -70.46699701523904,
          -79.34062736268339,
          -87.19083969022145,
          -84.10337579647731,
          -66.10600887160872,
          -59.08267305208642,
          -8.753254737161008,
          -13.558690546413235,
          -20.898959030646306,
          -7.416278470199474,
          -22.77436799041355,
          -29.345540952041546,
          -39.761301554574196,
          -28.704541741471086,
          -21.10770357062715,
          -25.139311301141152,
          -25.982843113985957,
          -23.34663613305546,
          -14.391990756944999,
          -16.797377532810785,
          -28.2315229856309,
          -37.24950172605932,
          -55.692153299872274,
          -51.352583604388485,
          -52.103139944515185,
          -42.284717631008505,
          -49.25963800346999,
          -62.24407670895283,
          -59.05506124936539,
          -80.47594009489816,
          -84.62853188684507,
          -72.10609750773337,
          -55.1131426269897,
          -59.13957373070297,
          -66.64885634565596,
          -66.09609061022586,
          -61.34081711498896,
          -55.62687988720915,
          -52.37427288315217,
          -50.8888101417385
         ],
         "yaxis": "y"
        }
       ],
       "layout": {
        "legend": {
         "title": {
          "text": "variable"
         },
         "tracegroupgap": 0
        },
        "template": {
         "data": {
          "bar": [
           {
            "error_x": {
             "color": "#2a3f5f"
            },
            "error_y": {
             "color": "#2a3f5f"
            },
            "marker": {
             "line": {
              "color": "#E5ECF6",
              "width": 0.5
             },
             "pattern": {
              "fillmode": "overlay",
              "size": 10,
              "solidity": 0.2
             }
            },
            "type": "bar"
           }
          ],
          "barpolar": [
           {
            "marker": {
             "line": {
              "color": "#E5ECF6",
              "width": 0.5
             },
             "pattern": {
              "fillmode": "overlay",
              "size": 10,
              "solidity": 0.2
             }
            },
            "type": "barpolar"
           }
          ],
          "carpet": [
           {
            "aaxis": {
             "endlinecolor": "#2a3f5f",
             "gridcolor": "white",
             "linecolor": "white",
             "minorgridcolor": "white",
             "startlinecolor": "#2a3f5f"
            },
            "baxis": {
             "endlinecolor": "#2a3f5f",
             "gridcolor": "white",
             "linecolor": "white",
             "minorgridcolor": "white",
             "startlinecolor": "#2a3f5f"
            },
            "type": "carpet"
           }
          ],
          "choropleth": [
           {
            "colorbar": {
             "outlinewidth": 0,
             "ticks": ""
            },
            "type": "choropleth"
           }
          ],
          "contour": [
           {
            "colorbar": {
             "outlinewidth": 0,
             "ticks": ""
            },
            "colorscale": [
             [
              0,
              "#0d0887"
             ],
             [
              0.1111111111111111,
              "#46039f"
             ],
             [
              0.2222222222222222,
              "#7201a8"
             ],
             [
              0.3333333333333333,
              "#9c179e"
             ],
             [
              0.4444444444444444,
              "#bd3786"
             ],
             [
              0.5555555555555556,
              "#d8576b"
             ],
             [
              0.6666666666666666,
              "#ed7953"
             ],
             [
              0.7777777777777778,
              "#fb9f3a"
             ],
             [
              0.8888888888888888,
              "#fdca26"
             ],
             [
              1,
              "#f0f921"
             ]
            ],
            "type": "contour"
           }
          ],
          "contourcarpet": [
           {
            "colorbar": {
             "outlinewidth": 0,
             "ticks": ""
            },
            "type": "contourcarpet"
           }
          ],
          "heatmap": [
           {
            "colorbar": {
             "outlinewidth": 0,
             "ticks": ""
            },
            "colorscale": [
             [
              0,
              "#0d0887"
             ],
             [
              0.1111111111111111,
              "#46039f"
             ],
             [
              0.2222222222222222,
              "#7201a8"
             ],
             [
              0.3333333333333333,
              "#9c179e"
             ],
             [
              0.4444444444444444,
              "#bd3786"
             ],
             [
              0.5555555555555556,
              "#d8576b"
             ],
             [
              0.6666666666666666,
              "#ed7953"
             ],
             [
              0.7777777777777778,
              "#fb9f3a"
             ],
             [
              0.8888888888888888,
              "#fdca26"
             ],
             [
              1,
              "#f0f921"
             ]
            ],
            "type": "heatmap"
           }
          ],
          "heatmapgl": [
           {
            "colorbar": {
             "outlinewidth": 0,
             "ticks": ""
            },
            "colorscale": [
             [
              0,
              "#0d0887"
             ],
             [
              0.1111111111111111,
              "#46039f"
             ],
             [
              0.2222222222222222,
              "#7201a8"
             ],
             [
              0.3333333333333333,
              "#9c179e"
             ],
             [
              0.4444444444444444,
              "#bd3786"
             ],
             [
              0.5555555555555556,
              "#d8576b"
             ],
             [
              0.6666666666666666,
              "#ed7953"
             ],
             [
              0.7777777777777778,
              "#fb9f3a"
             ],
             [
              0.8888888888888888,
              "#fdca26"
             ],
             [
              1,
              "#f0f921"
             ]
            ],
            "type": "heatmapgl"
           }
          ],
          "histogram": [
           {
            "marker": {
             "pattern": {
              "fillmode": "overlay",
              "size": 10,
              "solidity": 0.2
             }
            },
            "type": "histogram"
           }
          ],
          "histogram2d": [
           {
            "colorbar": {
             "outlinewidth": 0,
             "ticks": ""
            },
            "colorscale": [
             [
              0,
              "#0d0887"
             ],
             [
              0.1111111111111111,
              "#46039f"
             ],
             [
              0.2222222222222222,
              "#7201a8"
             ],
             [
              0.3333333333333333,
              "#9c179e"
             ],
             [
              0.4444444444444444,
              "#bd3786"
             ],
             [
              0.5555555555555556,
              "#d8576b"
             ],
             [
              0.6666666666666666,
              "#ed7953"
             ],
             [
              0.7777777777777778,
              "#fb9f3a"
             ],
             [
              0.8888888888888888,
              "#fdca26"
             ],
             [
              1,
              "#f0f921"
             ]
            ],
            "type": "histogram2d"
           }
          ],
          "histogram2dcontour": [
           {
            "colorbar": {
             "outlinewidth": 0,
             "ticks": ""
            },
            "colorscale": [
             [
              0,
              "#0d0887"
             ],
             [
              0.1111111111111111,
              "#46039f"
             ],
             [
              0.2222222222222222,
              "#7201a8"
             ],
             [
              0.3333333333333333,
              "#9c179e"
             ],
             [
              0.4444444444444444,
              "#bd3786"
             ],
             [
              0.5555555555555556,
              "#d8576b"
             ],
             [
              0.6666666666666666,
              "#ed7953"
             ],
             [
              0.7777777777777778,
              "#fb9f3a"
             ],
             [
              0.8888888888888888,
              "#fdca26"
             ],
             [
              1,
              "#f0f921"
             ]
            ],
            "type": "histogram2dcontour"
           }
          ],
          "mesh3d": [
           {
            "colorbar": {
             "outlinewidth": 0,
             "ticks": ""
            },
            "type": "mesh3d"
           }
          ],
          "parcoords": [
           {
            "line": {
             "colorbar": {
              "outlinewidth": 0,
              "ticks": ""
             }
            },
            "type": "parcoords"
           }
          ],
          "pie": [
           {
            "automargin": true,
            "type": "pie"
           }
          ],
          "scatter": [
           {
            "marker": {
             "colorbar": {
              "outlinewidth": 0,
              "ticks": ""
             }
            },
            "type": "scatter"
           }
          ],
          "scatter3d": [
           {
            "line": {
             "colorbar": {
              "outlinewidth": 0,
              "ticks": ""
             }
            },
            "marker": {
             "colorbar": {
              "outlinewidth": 0,
              "ticks": ""
             }
            },
            "type": "scatter3d"
           }
          ],
          "scattercarpet": [
           {
            "marker": {
             "colorbar": {
              "outlinewidth": 0,
              "ticks": ""
             }
            },
            "type": "scattercarpet"
           }
          ],
          "scattergeo": [
           {
            "marker": {
             "colorbar": {
              "outlinewidth": 0,
              "ticks": ""
             }
            },
            "type": "scattergeo"
           }
          ],
          "scattergl": [
           {
            "marker": {
             "colorbar": {
              "outlinewidth": 0,
              "ticks": ""
             }
            },
            "type": "scattergl"
           }
          ],
          "scattermapbox": [
           {
            "marker": {
             "colorbar": {
              "outlinewidth": 0,
              "ticks": ""
             }
            },
            "type": "scattermapbox"
           }
          ],
          "scatterpolar": [
           {
            "marker": {
             "colorbar": {
              "outlinewidth": 0,
              "ticks": ""
             }
            },
            "type": "scatterpolar"
           }
          ],
          "scatterpolargl": [
           {
            "marker": {
             "colorbar": {
              "outlinewidth": 0,
              "ticks": ""
             }
            },
            "type": "scatterpolargl"
           }
          ],
          "scatterternary": [
           {
            "marker": {
             "colorbar": {
              "outlinewidth": 0,
              "ticks": ""
             }
            },
            "type": "scatterternary"
           }
          ],
          "surface": [
           {
            "colorbar": {
             "outlinewidth": 0,
             "ticks": ""
            },
            "colorscale": [
             [
              0,
              "#0d0887"
             ],
             [
              0.1111111111111111,
              "#46039f"
             ],
             [
              0.2222222222222222,
              "#7201a8"
             ],
             [
              0.3333333333333333,
              "#9c179e"
             ],
             [
              0.4444444444444444,
              "#bd3786"
             ],
             [
              0.5555555555555556,
              "#d8576b"
             ],
             [
              0.6666666666666666,
              "#ed7953"
             ],
             [
              0.7777777777777778,
              "#fb9f3a"
             ],
             [
              0.8888888888888888,
              "#fdca26"
             ],
             [
              1,
              "#f0f921"
             ]
            ],
            "type": "surface"
           }
          ],
          "table": [
           {
            "cells": {
             "fill": {
              "color": "#EBF0F8"
             },
             "line": {
              "color": "white"
             }
            },
            "header": {
             "fill": {
              "color": "#C8D4E3"
             },
             "line": {
              "color": "white"
             }
            },
            "type": "table"
           }
          ]
         },
         "layout": {
          "annotationdefaults": {
           "arrowcolor": "#2a3f5f",
           "arrowhead": 0,
           "arrowwidth": 1
          },
          "autotypenumbers": "strict",
          "coloraxis": {
           "colorbar": {
            "outlinewidth": 0,
            "ticks": ""
           }
          },
          "colorscale": {
           "diverging": [
            [
             0,
             "#8e0152"
            ],
            [
             0.1,
             "#c51b7d"
            ],
            [
             0.2,
             "#de77ae"
            ],
            [
             0.3,
             "#f1b6da"
            ],
            [
             0.4,
             "#fde0ef"
            ],
            [
             0.5,
             "#f7f7f7"
            ],
            [
             0.6,
             "#e6f5d0"
            ],
            [
             0.7,
             "#b8e186"
            ],
            [
             0.8,
             "#7fbc41"
            ],
            [
             0.9,
             "#4d9221"
            ],
            [
             1,
             "#276419"
            ]
           ],
           "sequential": [
            [
             0,
             "#0d0887"
            ],
            [
             0.1111111111111111,
             "#46039f"
            ],
            [
             0.2222222222222222,
             "#7201a8"
            ],
            [
             0.3333333333333333,
             "#9c179e"
            ],
            [
             0.4444444444444444,
             "#bd3786"
            ],
            [
             0.5555555555555556,
             "#d8576b"
            ],
            [
             0.6666666666666666,
             "#ed7953"
            ],
            [
             0.7777777777777778,
             "#fb9f3a"
            ],
            [
             0.8888888888888888,
             "#fdca26"
            ],
            [
             1,
             "#f0f921"
            ]
           ],
           "sequentialminus": [
            [
             0,
             "#0d0887"
            ],
            [
             0.1111111111111111,
             "#46039f"
            ],
            [
             0.2222222222222222,
             "#7201a8"
            ],
            [
             0.3333333333333333,
             "#9c179e"
            ],
            [
             0.4444444444444444,
             "#bd3786"
            ],
            [
             0.5555555555555556,
             "#d8576b"
            ],
            [
             0.6666666666666666,
             "#ed7953"
            ],
            [
             0.7777777777777778,
             "#fb9f3a"
            ],
            [
             0.8888888888888888,
             "#fdca26"
            ],
            [
             1,
             "#f0f921"
            ]
           ]
          },
          "colorway": [
           "#636efa",
           "#EF553B",
           "#00cc96",
           "#ab63fa",
           "#FFA15A",
           "#19d3f3",
           "#FF6692",
           "#B6E880",
           "#FF97FF",
           "#FECB52"
          ],
          "font": {
           "color": "#2a3f5f"
          },
          "geo": {
           "bgcolor": "white",
           "lakecolor": "white",
           "landcolor": "#E5ECF6",
           "showlakes": true,
           "showland": true,
           "subunitcolor": "white"
          },
          "hoverlabel": {
           "align": "left"
          },
          "hovermode": "closest",
          "mapbox": {
           "style": "light"
          },
          "paper_bgcolor": "white",
          "plot_bgcolor": "#E5ECF6",
          "polar": {
           "angularaxis": {
            "gridcolor": "white",
            "linecolor": "white",
            "ticks": ""
           },
           "bgcolor": "#E5ECF6",
           "radialaxis": {
            "gridcolor": "white",
            "linecolor": "white",
            "ticks": ""
           }
          },
          "scene": {
           "xaxis": {
            "backgroundcolor": "#E5ECF6",
            "gridcolor": "white",
            "gridwidth": 2,
            "linecolor": "white",
            "showbackground": true,
            "ticks": "",
            "zerolinecolor": "white"
           },
           "yaxis": {
            "backgroundcolor": "#E5ECF6",
            "gridcolor": "white",
            "gridwidth": 2,
            "linecolor": "white",
            "showbackground": true,
            "ticks": "",
            "zerolinecolor": "white"
           },
           "zaxis": {
            "backgroundcolor": "#E5ECF6",
            "gridcolor": "white",
            "gridwidth": 2,
            "linecolor": "white",
            "showbackground": true,
            "ticks": "",
            "zerolinecolor": "white"
           }
          },
          "shapedefaults": {
           "line": {
            "color": "#2a3f5f"
           }
          },
          "ternary": {
           "aaxis": {
            "gridcolor": "white",
            "linecolor": "white",
            "ticks": ""
           },
           "baxis": {
            "gridcolor": "white",
            "linecolor": "white",
            "ticks": ""
           },
           "bgcolor": "#E5ECF6",
           "caxis": {
            "gridcolor": "white",
            "linecolor": "white",
            "ticks": ""
           }
          },
          "title": {
           "x": 0.05
          },
          "xaxis": {
           "automargin": true,
           "gridcolor": "white",
           "linecolor": "white",
           "ticks": "",
           "title": {
            "standoff": 15
           },
           "zerolinecolor": "white",
           "zerolinewidth": 2
          },
          "yaxis": {
           "automargin": true,
           "gridcolor": "white",
           "linecolor": "white",
           "ticks": "",
           "title": {
            "standoff": 15
           },
           "zerolinecolor": "white",
           "zerolinewidth": 2
          }
         }
        },
        "title": {
         "text": "1-Year Historical Returns"
        },
        "xaxis": {
         "anchor": "y",
         "domain": [
          0,
          1
         ],
         "title": {}
        },
        "yaxis": {
         "anchor": "x",
         "domain": [
          0,
          1
         ],
         "title": {
          "text": "Total return (%)"
         }
        }
       }
      },
      "text/html": [
       "<div>                            <div id=\"7d615d0d-9f09-42ab-88db-7dcfa5f013f7\" class=\"plotly-graph-div\" style=\"height:525px; width:100%;\"></div>            <script type=\"text/javascript\">                require([\"plotly\"], function(Plotly) {                    window.PLOTLYENV=window.PLOTLYENV || {};                                    if (document.getElementById(\"7d615d0d-9f09-42ab-88db-7dcfa5f013f7\")) {                    Plotly.newPlot(                        \"7d615d0d-9f09-42ab-88db-7dcfa5f013f7\",                        [{\"hovertemplate\":\"variable=BTC-USD<br>Date=%{x}<br>value=%{y}<extra></extra>\",\"legendgroup\":\"BTC-USD\",\"line\":{\"color\":\"#636efa\",\"dash\":\"solid\"},\"marker\":{\"symbol\":\"circle\"},\"mode\":\"lines\",\"name\":\"BTC-USD\",\"orientation\":\"v\",\"showlegend\":true,\"x\":[\"2021-04-19T00:00:00\",\"2021-04-26T00:00:00\",\"2021-05-03T00:00:00\",\"2021-05-10T00:00:00\",\"2021-05-17T00:00:00\",\"2021-05-24T00:00:00\",\"2021-05-31T00:00:00\",\"2021-06-07T00:00:00\",\"2021-06-14T00:00:00\",\"2021-06-21T00:00:00\",\"2021-06-28T00:00:00\",\"2021-07-05T00:00:00\",\"2021-07-12T00:00:00\",\"2021-07-19T00:00:00\",\"2021-07-26T00:00:00\",\"2021-08-02T00:00:00\",\"2021-08-09T00:00:00\",\"2021-08-16T00:00:00\",\"2021-08-23T00:00:00\",\"2021-08-30T00:00:00\",\"2021-09-06T00:00:00\",\"2021-09-13T00:00:00\",\"2021-09-20T00:00:00\",\"2021-09-27T00:00:00\",\"2021-10-04T00:00:00\",\"2021-10-11T00:00:00\",\"2021-10-18T00:00:00\",\"2021-10-25T00:00:00\",\"2021-11-01T00:00:00\",\"2021-11-08T00:00:00\",\"2021-11-15T00:00:00\",\"2021-11-22T00:00:00\",\"2021-11-29T00:00:00\",\"2021-12-06T00:00:00\",\"2021-12-13T00:00:00\",\"2021-12-20T00:00:00\",\"2021-12-27T00:00:00\",\"2022-01-03T00:00:00\",\"2022-01-10T00:00:00\",\"2022-01-17T00:00:00\",\"2022-01-24T00:00:00\",\"2022-01-31T00:00:00\",\"2022-02-07T00:00:00\",\"2022-02-14T00:00:00\",\"2022-02-21T00:00:00\",\"2022-02-28T00:00:00\",\"2022-03-07T00:00:00\",\"2022-03-14T00:00:00\",\"2022-03-21T00:00:00\",\"2022-03-27T00:00:00\"],\"xaxis\":\"x\",\"y\":[-13.729757099174645,0.7353238251041798,3.523578559969815,-19.06977904044232,-48.043299440132444,-45.46668143790819,-44.95158750577629,-36.313696169731635,-45.41016986825201,-48.39172130025791,-46.566791595521906,-49.580465243753565,-56.98386922595433,-46.39009833171315,-34.09530593986778,-24.961384987579276,-17.805749467567328,-13.084149950341422,-14.086324154774191,-8.27143530339712,-19.918880369595797,-17.353577934941452,-26.316654054647685,-15.384663120177692,-2.603326769159139,9.070393943401267,8.053470405609318,8.688436548868141,11.910691369314089,15.233907277240233,4.375410421851944,1.8196010904453948,-12.988506872035593,-11.521688702864969,-18.53102988395969,-10.112102725164196,-17.173884198263835,-29.364200421233114,-26.53597180876208,-43.80261320424374,-39.37892542950973,-28.176311536191093,-28.684333188400828,-38.03303948295322,-39.92850657554485,-38.06269290963817,-39.558257539879136,-30.960631457004688,-23.369688119788446,-20.1269629809129],\"yaxis\":\"y\",\"type\":\"scatter\"},{\"hovertemplate\":\"variable=ETH-USD<br>Date=%{x}<br>value=%{y}<extra></extra>\",\"legendgroup\":\"ETH-USD\",\"line\":{\"color\":\"#EF553B\",\"dash\":\"solid\"},\"marker\":{\"symbol\":\"circle\"},\"mode\":\"lines\",\"name\":\"ETH-USD\",\"orientation\":\"v\",\"showlegend\":true,\"x\":[\"2021-04-19T00:00:00\",\"2021-04-26T00:00:00\",\"2021-05-03T00:00:00\",\"2021-05-10T00:00:00\",\"2021-05-17T00:00:00\",\"2021-05-24T00:00:00\",\"2021-05-31T00:00:00\",\"2021-06-07T00:00:00\",\"2021-06-14T00:00:00\",\"2021-06-21T00:00:00\",\"2021-06-28T00:00:00\",\"2021-07-05T00:00:00\",\"2021-07-12T00:00:00\",\"2021-07-19T00:00:00\",\"2021-07-26T00:00:00\",\"2021-08-02T00:00:00\",\"2021-08-09T00:00:00\",\"2021-08-16T00:00:00\",\"2021-08-23T00:00:00\",\"2021-08-30T00:00:00\",\"2021-09-06T00:00:00\",\"2021-09-13T00:00:00\",\"2021-09-20T00:00:00\",\"2021-09-27T00:00:00\",\"2021-10-04T00:00:00\",\"2021-10-11T00:00:00\",\"2021-10-18T00:00:00\",\"2021-10-25T00:00:00\",\"2021-11-01T00:00:00\",\"2021-11-08T00:00:00\",\"2021-11-15T00:00:00\",\"2021-11-22T00:00:00\",\"2021-11-29T00:00:00\",\"2021-12-06T00:00:00\",\"2021-12-13T00:00:00\",\"2021-12-20T00:00:00\",\"2021-12-27T00:00:00\",\"2022-01-03T00:00:00\",\"2022-01-10T00:00:00\",\"2022-01-17T00:00:00\",\"2022-01-24T00:00:00\",\"2022-01-31T00:00:00\",\"2022-02-07T00:00:00\",\"2022-02-14T00:00:00\",\"2022-02-21T00:00:00\",\"2022-02-28T00:00:00\",\"2022-03-07T00:00:00\",\"2022-03-14T00:00:00\",\"2022-03-21T00:00:00\",\"2022-03-27T00:00:00\"],\"xaxis\":\"x\",\"y\":[3.4670373805053987,27.730502157332435,56.31485131782681,47.22603756320365,-5.870810993494317,6.622424176051304,19.362921671665255,11.444484477517163,0.4116225750614486,-12.265847385588321,3.71131585380018,-4.454772790286217,-16.568675235914334,-2.0668263137848832,13.553354747813351,29.798249208291022,39.19035823063919,37.1029135428275,36.63568385004383,56.90586642652842,42.15548328523288,39.760961711864915,31.395805582383815,42.39636000203195,42.61535217377511,54.21238786137361,60.28352364883762,65.0640825315203,72.53178533355387,72.65732343736416,64.63543681888316,65.21274259603656,62.94881944414603,61.415815780946225,56.15558879344005,59.77893967522954,53.75542976376768,34.46633057796356,40.40385877666075,12.501213941398852,15.16469397187976,31.239285649195878,25.379522698877555,16.127290522482838,15.866486846087389,13.28699365394285,11.864308958484804,24.578527457227757,34.003778707794496,36.620400263443535],\"yaxis\":\"y\",\"type\":\"scatter\"},{\"hovertemplate\":\"variable=SHIB-USD<br>Date=%{x}<br>value=%{y}<extra></extra>\",\"legendgroup\":\"SHIB-USD\",\"line\":{\"color\":\"#00cc96\",\"dash\":\"solid\"},\"marker\":{\"symbol\":\"circle\"},\"mode\":\"lines\",\"name\":\"SHIB-USD\",\"orientation\":\"v\",\"showlegend\":true,\"x\":[\"2021-04-19T00:00:00\",\"2021-04-26T00:00:00\",\"2021-05-03T00:00:00\",\"2021-05-10T00:00:00\",\"2021-05-17T00:00:00\",\"2021-05-24T00:00:00\",\"2021-05-31T00:00:00\",\"2021-06-07T00:00:00\",\"2021-06-14T00:00:00\",\"2021-06-21T00:00:00\",\"2021-06-28T00:00:00\",\"2021-07-05T00:00:00\",\"2021-07-12T00:00:00\",\"2021-07-19T00:00:00\",\"2021-07-26T00:00:00\",\"2021-08-02T00:00:00\",\"2021-08-09T00:00:00\",\"2021-08-16T00:00:00\",\"2021-08-23T00:00:00\",\"2021-08-30T00:00:00\",\"2021-09-06T00:00:00\",\"2021-09-13T00:00:00\",\"2021-09-20T00:00:00\",\"2021-09-27T00:00:00\",\"2021-10-04T00:00:00\",\"2021-10-11T00:00:00\",\"2021-10-18T00:00:00\",\"2021-10-25T00:00:00\",\"2021-11-01T00:00:00\",\"2021-11-08T00:00:00\",\"2021-11-15T00:00:00\",\"2021-11-22T00:00:00\",\"2021-11-29T00:00:00\",\"2021-12-06T00:00:00\",\"2021-12-13T00:00:00\",\"2021-12-20T00:00:00\",\"2021-12-27T00:00:00\",\"2022-01-03T00:00:00\",\"2022-01-10T00:00:00\",\"2022-01-17T00:00:00\",\"2022-01-24T00:00:00\",\"2022-01-31T00:00:00\",\"2022-02-07T00:00:00\",\"2022-02-14T00:00:00\",\"2022-02-21T00:00:00\",\"2022-02-28T00:00:00\",\"2022-03-07T00:00:00\",\"2022-03-14T00:00:00\",\"2022-03-21T00:00:00\",\"2022-03-27T00:00:00\"],\"xaxis\":\"x\",\"y\":[-69.31471805599453,0.0,207.94415416798358,219.7224615231831,138.62943611198904,138.62943611198904,150.40774346718857,125.27629847363444,138.62943611198904,138.62943611198904,150.40774346718857,138.62943611198904,125.27629847363444,109.86123265637214,109.86123265637214,125.27629847363445,150.4077434671886,138.62943611198907,125.27629847363447,138.62943611198907,125.27629847363447,138.62943611198907,125.27629847363447,150.4077434671886,256.49493487163954,263.9057345856236,289.0371795791777,351.1545454102387,334.990410921417,327.7144730847142,309.1042463693483,297.0414433504182,289.03717957917763,291.77707781735364,274.08400129232484,294.4438937281815,283.3213364118599,263.9057345856235,274.08400129232484,239.7895283133537,235.13752517498182,263.90573458562346,270.8050178364841,256.49493487163943,244.2347060083733,248.49066876836113,239.78952831335366,244.2347060083733,248.49066876836113,251.87899709814383],\"yaxis\":\"y\",\"type\":\"scatter\"},{\"hovertemplate\":\"variable=XRP-USD<br>Date=%{x}<br>value=%{y}<extra></extra>\",\"legendgroup\":\"XRP-USD\",\"line\":{\"color\":\"#ab63fa\",\"dash\":\"solid\"},\"marker\":{\"symbol\":\"circle\"},\"mode\":\"lines\",\"name\":\"XRP-USD\",\"orientation\":\"v\",\"showlegend\":true,\"x\":[\"2021-04-19T00:00:00\",\"2021-04-26T00:00:00\",\"2021-05-03T00:00:00\",\"2021-05-10T00:00:00\",\"2021-05-17T00:00:00\",\"2021-05-24T00:00:00\",\"2021-05-31T00:00:00\",\"2021-06-07T00:00:00\",\"2021-06-14T00:00:00\",\"2021-06-21T00:00:00\",\"2021-06-28T00:00:00\",\"2021-07-05T00:00:00\",\"2021-07-12T00:00:00\",\"2021-07-19T00:00:00\",\"2021-07-26T00:00:00\",\"2021-08-02T00:00:00\",\"2021-08-09T00:00:00\",\"2021-08-16T00:00:00\",\"2021-08-23T00:00:00\",\"2021-08-30T00:00:00\",\"2021-09-06T00:00:00\",\"2021-09-13T00:00:00\",\"2021-09-20T00:00:00\",\"2021-09-27T00:00:00\",\"2021-10-04T00:00:00\",\"2021-10-11T00:00:00\",\"2021-10-18T00:00:00\",\"2021-10-25T00:00:00\",\"2021-11-01T00:00:00\",\"2021-11-08T00:00:00\",\"2021-11-15T00:00:00\",\"2021-11-22T00:00:00\",\"2021-11-29T00:00:00\",\"2021-12-06T00:00:00\",\"2021-12-13T00:00:00\",\"2021-12-20T00:00:00\",\"2021-12-27T00:00:00\",\"2022-01-03T00:00:00\",\"2022-01-10T00:00:00\",\"2022-01-17T00:00:00\",\"2022-01-24T00:00:00\",\"2022-01-31T00:00:00\",\"2022-02-07T00:00:00\",\"2022-02-14T00:00:00\",\"2022-02-21T00:00:00\",\"2022-02-28T00:00:00\",\"2022-03-07T00:00:00\",\"2022-03-14T00:00:00\",\"2022-03-21T00:00:00\",\"2022-03-27T00:00:00\"],\"xaxis\":\"x\",\"y\":[-30.900065962856065,10.562998938207503,8.797386635506628,3.2611794153832756,-56.76291305115352,-43.87913795856353,-39.701514214444664,-46.49962648228313,-59.386438826226204,-77.62753586667552,-70.46699701523904,-79.34062736268339,-87.19083969022145,-84.10337579647731,-66.10600887160872,-59.08267305208642,-8.753254737161008,-13.558690546413235,-20.898959030646306,-7.416278470199474,-22.77436799041355,-29.345540952041546,-39.761301554574196,-28.704541741471086,-21.10770357062715,-25.139311301141152,-25.982843113985957,-23.34663613305546,-14.391990756944999,-16.797377532810785,-28.2315229856309,-37.24950172605932,-55.692153299872274,-51.352583604388485,-52.103139944515185,-42.284717631008505,-49.25963800346999,-62.24407670895283,-59.05506124936539,-80.47594009489816,-84.62853188684507,-72.10609750773337,-55.1131426269897,-59.13957373070297,-66.64885634565596,-66.09609061022586,-61.34081711498896,-55.62687988720915,-52.37427288315217,-50.8888101417385],\"yaxis\":\"y\",\"type\":\"scatter\"}],                        {\"template\":{\"data\":{\"bar\":[{\"error_x\":{\"color\":\"#2a3f5f\"},\"error_y\":{\"color\":\"#2a3f5f\"},\"marker\":{\"line\":{\"color\":\"#E5ECF6\",\"width\":0.5},\"pattern\":{\"fillmode\":\"overlay\",\"size\":10,\"solidity\":0.2}},\"type\":\"bar\"}],\"barpolar\":[{\"marker\":{\"line\":{\"color\":\"#E5ECF6\",\"width\":0.5},\"pattern\":{\"fillmode\":\"overlay\",\"size\":10,\"solidity\":0.2}},\"type\":\"barpolar\"}],\"carpet\":[{\"aaxis\":{\"endlinecolor\":\"#2a3f5f\",\"gridcolor\":\"white\",\"linecolor\":\"white\",\"minorgridcolor\":\"white\",\"startlinecolor\":\"#2a3f5f\"},\"baxis\":{\"endlinecolor\":\"#2a3f5f\",\"gridcolor\":\"white\",\"linecolor\":\"white\",\"minorgridcolor\":\"white\",\"startlinecolor\":\"#2a3f5f\"},\"type\":\"carpet\"}],\"choropleth\":[{\"colorbar\":{\"outlinewidth\":0,\"ticks\":\"\"},\"type\":\"choropleth\"}],\"contour\":[{\"colorbar\":{\"outlinewidth\":0,\"ticks\":\"\"},\"colorscale\":[[0.0,\"#0d0887\"],[0.1111111111111111,\"#46039f\"],[0.2222222222222222,\"#7201a8\"],[0.3333333333333333,\"#9c179e\"],[0.4444444444444444,\"#bd3786\"],[0.5555555555555556,\"#d8576b\"],[0.6666666666666666,\"#ed7953\"],[0.7777777777777778,\"#fb9f3a\"],[0.8888888888888888,\"#fdca26\"],[1.0,\"#f0f921\"]],\"type\":\"contour\"}],\"contourcarpet\":[{\"colorbar\":{\"outlinewidth\":0,\"ticks\":\"\"},\"type\":\"contourcarpet\"}],\"heatmap\":[{\"colorbar\":{\"outlinewidth\":0,\"ticks\":\"\"},\"colorscale\":[[0.0,\"#0d0887\"],[0.1111111111111111,\"#46039f\"],[0.2222222222222222,\"#7201a8\"],[0.3333333333333333,\"#9c179e\"],[0.4444444444444444,\"#bd3786\"],[0.5555555555555556,\"#d8576b\"],[0.6666666666666666,\"#ed7953\"],[0.7777777777777778,\"#fb9f3a\"],[0.8888888888888888,\"#fdca26\"],[1.0,\"#f0f921\"]],\"type\":\"heatmap\"}],\"heatmapgl\":[{\"colorbar\":{\"outlinewidth\":0,\"ticks\":\"\"},\"colorscale\":[[0.0,\"#0d0887\"],[0.1111111111111111,\"#46039f\"],[0.2222222222222222,\"#7201a8\"],[0.3333333333333333,\"#9c179e\"],[0.4444444444444444,\"#bd3786\"],[0.5555555555555556,\"#d8576b\"],[0.6666666666666666,\"#ed7953\"],[0.7777777777777778,\"#fb9f3a\"],[0.8888888888888888,\"#fdca26\"],[1.0,\"#f0f921\"]],\"type\":\"heatmapgl\"}],\"histogram\":[{\"marker\":{\"pattern\":{\"fillmode\":\"overlay\",\"size\":10,\"solidity\":0.2}},\"type\":\"histogram\"}],\"histogram2d\":[{\"colorbar\":{\"outlinewidth\":0,\"ticks\":\"\"},\"colorscale\":[[0.0,\"#0d0887\"],[0.1111111111111111,\"#46039f\"],[0.2222222222222222,\"#7201a8\"],[0.3333333333333333,\"#9c179e\"],[0.4444444444444444,\"#bd3786\"],[0.5555555555555556,\"#d8576b\"],[0.6666666666666666,\"#ed7953\"],[0.7777777777777778,\"#fb9f3a\"],[0.8888888888888888,\"#fdca26\"],[1.0,\"#f0f921\"]],\"type\":\"histogram2d\"}],\"histogram2dcontour\":[{\"colorbar\":{\"outlinewidth\":0,\"ticks\":\"\"},\"colorscale\":[[0.0,\"#0d0887\"],[0.1111111111111111,\"#46039f\"],[0.2222222222222222,\"#7201a8\"],[0.3333333333333333,\"#9c179e\"],[0.4444444444444444,\"#bd3786\"],[0.5555555555555556,\"#d8576b\"],[0.6666666666666666,\"#ed7953\"],[0.7777777777777778,\"#fb9f3a\"],[0.8888888888888888,\"#fdca26\"],[1.0,\"#f0f921\"]],\"type\":\"histogram2dcontour\"}],\"mesh3d\":[{\"colorbar\":{\"outlinewidth\":0,\"ticks\":\"\"},\"type\":\"mesh3d\"}],\"parcoords\":[{\"line\":{\"colorbar\":{\"outlinewidth\":0,\"ticks\":\"\"}},\"type\":\"parcoords\"}],\"pie\":[{\"automargin\":true,\"type\":\"pie\"}],\"scatter\":[{\"marker\":{\"colorbar\":{\"outlinewidth\":0,\"ticks\":\"\"}},\"type\":\"scatter\"}],\"scatter3d\":[{\"line\":{\"colorbar\":{\"outlinewidth\":0,\"ticks\":\"\"}},\"marker\":{\"colorbar\":{\"outlinewidth\":0,\"ticks\":\"\"}},\"type\":\"scatter3d\"}],\"scattercarpet\":[{\"marker\":{\"colorbar\":{\"outlinewidth\":0,\"ticks\":\"\"}},\"type\":\"scattercarpet\"}],\"scattergeo\":[{\"marker\":{\"colorbar\":{\"outlinewidth\":0,\"ticks\":\"\"}},\"type\":\"scattergeo\"}],\"scattergl\":[{\"marker\":{\"colorbar\":{\"outlinewidth\":0,\"ticks\":\"\"}},\"type\":\"scattergl\"}],\"scattermapbox\":[{\"marker\":{\"colorbar\":{\"outlinewidth\":0,\"ticks\":\"\"}},\"type\":\"scattermapbox\"}],\"scatterpolar\":[{\"marker\":{\"colorbar\":{\"outlinewidth\":0,\"ticks\":\"\"}},\"type\":\"scatterpolar\"}],\"scatterpolargl\":[{\"marker\":{\"colorbar\":{\"outlinewidth\":0,\"ticks\":\"\"}},\"type\":\"scatterpolargl\"}],\"scatterternary\":[{\"marker\":{\"colorbar\":{\"outlinewidth\":0,\"ticks\":\"\"}},\"type\":\"scatterternary\"}],\"surface\":[{\"colorbar\":{\"outlinewidth\":0,\"ticks\":\"\"},\"colorscale\":[[0.0,\"#0d0887\"],[0.1111111111111111,\"#46039f\"],[0.2222222222222222,\"#7201a8\"],[0.3333333333333333,\"#9c179e\"],[0.4444444444444444,\"#bd3786\"],[0.5555555555555556,\"#d8576b\"],[0.6666666666666666,\"#ed7953\"],[0.7777777777777778,\"#fb9f3a\"],[0.8888888888888888,\"#fdca26\"],[1.0,\"#f0f921\"]],\"type\":\"surface\"}],\"table\":[{\"cells\":{\"fill\":{\"color\":\"#EBF0F8\"},\"line\":{\"color\":\"white\"}},\"header\":{\"fill\":{\"color\":\"#C8D4E3\"},\"line\":{\"color\":\"white\"}},\"type\":\"table\"}]},\"layout\":{\"annotationdefaults\":{\"arrowcolor\":\"#2a3f5f\",\"arrowhead\":0,\"arrowwidth\":1},\"autotypenumbers\":\"strict\",\"coloraxis\":{\"colorbar\":{\"outlinewidth\":0,\"ticks\":\"\"}},\"colorscale\":{\"diverging\":[[0,\"#8e0152\"],[0.1,\"#c51b7d\"],[0.2,\"#de77ae\"],[0.3,\"#f1b6da\"],[0.4,\"#fde0ef\"],[0.5,\"#f7f7f7\"],[0.6,\"#e6f5d0\"],[0.7,\"#b8e186\"],[0.8,\"#7fbc41\"],[0.9,\"#4d9221\"],[1,\"#276419\"]],\"sequential\":[[0.0,\"#0d0887\"],[0.1111111111111111,\"#46039f\"],[0.2222222222222222,\"#7201a8\"],[0.3333333333333333,\"#9c179e\"],[0.4444444444444444,\"#bd3786\"],[0.5555555555555556,\"#d8576b\"],[0.6666666666666666,\"#ed7953\"],[0.7777777777777778,\"#fb9f3a\"],[0.8888888888888888,\"#fdca26\"],[1.0,\"#f0f921\"]],\"sequentialminus\":[[0.0,\"#0d0887\"],[0.1111111111111111,\"#46039f\"],[0.2222222222222222,\"#7201a8\"],[0.3333333333333333,\"#9c179e\"],[0.4444444444444444,\"#bd3786\"],[0.5555555555555556,\"#d8576b\"],[0.6666666666666666,\"#ed7953\"],[0.7777777777777778,\"#fb9f3a\"],[0.8888888888888888,\"#fdca26\"],[1.0,\"#f0f921\"]]},\"colorway\":[\"#636efa\",\"#EF553B\",\"#00cc96\",\"#ab63fa\",\"#FFA15A\",\"#19d3f3\",\"#FF6692\",\"#B6E880\",\"#FF97FF\",\"#FECB52\"],\"font\":{\"color\":\"#2a3f5f\"},\"geo\":{\"bgcolor\":\"white\",\"lakecolor\":\"white\",\"landcolor\":\"#E5ECF6\",\"showlakes\":true,\"showland\":true,\"subunitcolor\":\"white\"},\"hoverlabel\":{\"align\":\"left\"},\"hovermode\":\"closest\",\"mapbox\":{\"style\":\"light\"},\"paper_bgcolor\":\"white\",\"plot_bgcolor\":\"#E5ECF6\",\"polar\":{\"angularaxis\":{\"gridcolor\":\"white\",\"linecolor\":\"white\",\"ticks\":\"\"},\"bgcolor\":\"#E5ECF6\",\"radialaxis\":{\"gridcolor\":\"white\",\"linecolor\":\"white\",\"ticks\":\"\"}},\"scene\":{\"xaxis\":{\"backgroundcolor\":\"#E5ECF6\",\"gridcolor\":\"white\",\"gridwidth\":2,\"linecolor\":\"white\",\"showbackground\":true,\"ticks\":\"\",\"zerolinecolor\":\"white\"},\"yaxis\":{\"backgroundcolor\":\"#E5ECF6\",\"gridcolor\":\"white\",\"gridwidth\":2,\"linecolor\":\"white\",\"showbackground\":true,\"ticks\":\"\",\"zerolinecolor\":\"white\"},\"zaxis\":{\"backgroundcolor\":\"#E5ECF6\",\"gridcolor\":\"white\",\"gridwidth\":2,\"linecolor\":\"white\",\"showbackground\":true,\"ticks\":\"\",\"zerolinecolor\":\"white\"}},\"shapedefaults\":{\"line\":{\"color\":\"#2a3f5f\"}},\"ternary\":{\"aaxis\":{\"gridcolor\":\"white\",\"linecolor\":\"white\",\"ticks\":\"\"},\"baxis\":{\"gridcolor\":\"white\",\"linecolor\":\"white\",\"ticks\":\"\"},\"bgcolor\":\"#E5ECF6\",\"caxis\":{\"gridcolor\":\"white\",\"linecolor\":\"white\",\"ticks\":\"\"}},\"title\":{\"x\":0.05},\"xaxis\":{\"automargin\":true,\"gridcolor\":\"white\",\"linecolor\":\"white\",\"ticks\":\"\",\"title\":{\"standoff\":15},\"zerolinecolor\":\"white\",\"zerolinewidth\":2},\"yaxis\":{\"automargin\":true,\"gridcolor\":\"white\",\"linecolor\":\"white\",\"ticks\":\"\",\"title\":{\"standoff\":15},\"zerolinecolor\":\"white\",\"zerolinewidth\":2}}},\"xaxis\":{\"anchor\":\"y\",\"domain\":[0.0,1.0],\"title\":{}},\"yaxis\":{\"anchor\":\"x\",\"domain\":[0.0,1.0],\"title\":{\"text\":\"Total return (%)\"}},\"legend\":{\"title\":{\"text\":\"variable\"},\"tracegroupgap\":0},\"title\":{\"text\":\"1-Year Historical Returns\"}},                        {\"responsive\": true}                    ).then(function(){\n",
       "                            \n",
       "var gd = document.getElementById('7d615d0d-9f09-42ab-88db-7dcfa5f013f7');\n",
       "var x = new MutationObserver(function (mutations, observer) {{\n",
       "        var display = window.getComputedStyle(gd).display;\n",
       "        if (!display || display === 'none') {{\n",
       "            console.log([gd, 'removed!']);\n",
       "            Plotly.purge(gd);\n",
       "            observer.disconnect();\n",
       "        }}\n",
       "}});\n",
       "\n",
       "// Listen for the removal of the full notebook cells\n",
       "var notebookContainer = gd.closest('#notebook-container');\n",
       "if (notebookContainer) {{\n",
       "    x.observe(notebookContainer, {childList: true});\n",
       "}}\n",
       "\n",
       "// Listen for the clearing of the current output cell\n",
       "var outputEl = gd.closest('.output');\n",
       "if (outputEl) {{\n",
       "    x.observe(outputEl, {childList: true});\n",
       "}}\n",
       "\n",
       "                        })                };                });            </script>        </div>"
      ]
     },
     "metadata": {},
     "output_type": "display_data"
    }
   ],
   "source": [
    "fig = px.line(df.cumsum(), title='1-Year Historical Returns')\n",
    "fig.update_layout(yaxis_title='Total return (%)', xaxis_title=None)"
   ]
  },
  {
   "cell_type": "markdown",
   "id": "6f0accf7",
   "metadata": {},
   "source": [
    "### Boxplot"
   ]
  },
  {
   "cell_type": "code",
   "execution_count": 14,
   "id": "d3c3682b",
   "metadata": {},
   "outputs": [
    {
     "data": {
      "application/vnd.plotly.v1+json": {
       "config": {
        "plotlyServerURL": "https://plot.ly"
       },
       "data": [
        {
         "alignmentgroup": "True",
         "hovertemplate": "variable=%{x}<br>value=%{y}<extra></extra>",
         "legendgroup": "",
         "marker": {
          "color": "#636efa"
         },
         "name": "",
         "notched": false,
         "offsetgroup": "",
         "orientation": "v",
         "showlegend": false,
         "type": "box",
         "x": [
          "BTC-USD",
          "BTC-USD",
          "BTC-USD",
          "BTC-USD",
          "BTC-USD",
          "BTC-USD",
          "BTC-USD",
          "BTC-USD",
          "BTC-USD",
          "BTC-USD",
          "BTC-USD",
          "BTC-USD",
          "BTC-USD",
          "BTC-USD",
          "BTC-USD",
          "BTC-USD",
          "BTC-USD",
          "BTC-USD",
          "BTC-USD",
          "BTC-USD",
          "BTC-USD",
          "BTC-USD",
          "BTC-USD",
          "BTC-USD",
          "BTC-USD",
          "BTC-USD",
          "BTC-USD",
          "BTC-USD",
          "BTC-USD",
          "BTC-USD",
          "BTC-USD",
          "BTC-USD",
          "BTC-USD",
          "BTC-USD",
          "BTC-USD",
          "BTC-USD",
          "BTC-USD",
          "BTC-USD",
          "BTC-USD",
          "BTC-USD",
          "BTC-USD",
          "BTC-USD",
          "BTC-USD",
          "BTC-USD",
          "BTC-USD",
          "BTC-USD",
          "BTC-USD",
          "BTC-USD",
          "BTC-USD",
          "BTC-USD",
          "ETH-USD",
          "ETH-USD",
          "ETH-USD",
          "ETH-USD",
          "ETH-USD",
          "ETH-USD",
          "ETH-USD",
          "ETH-USD",
          "ETH-USD",
          "ETH-USD",
          "ETH-USD",
          "ETH-USD",
          "ETH-USD",
          "ETH-USD",
          "ETH-USD",
          "ETH-USD",
          "ETH-USD",
          "ETH-USD",
          "ETH-USD",
          "ETH-USD",
          "ETH-USD",
          "ETH-USD",
          "ETH-USD",
          "ETH-USD",
          "ETH-USD",
          "ETH-USD",
          "ETH-USD",
          "ETH-USD",
          "ETH-USD",
          "ETH-USD",
          "ETH-USD",
          "ETH-USD",
          "ETH-USD",
          "ETH-USD",
          "ETH-USD",
          "ETH-USD",
          "ETH-USD",
          "ETH-USD",
          "ETH-USD",
          "ETH-USD",
          "ETH-USD",
          "ETH-USD",
          "ETH-USD",
          "ETH-USD",
          "ETH-USD",
          "ETH-USD",
          "ETH-USD",
          "ETH-USD",
          "ETH-USD",
          "ETH-USD",
          "SHIB-USD",
          "SHIB-USD",
          "SHIB-USD",
          "SHIB-USD",
          "SHIB-USD",
          "SHIB-USD",
          "SHIB-USD",
          "SHIB-USD",
          "SHIB-USD",
          "SHIB-USD",
          "SHIB-USD",
          "SHIB-USD",
          "SHIB-USD",
          "SHIB-USD",
          "SHIB-USD",
          "SHIB-USD",
          "SHIB-USD",
          "SHIB-USD",
          "SHIB-USD",
          "SHIB-USD",
          "SHIB-USD",
          "SHIB-USD",
          "SHIB-USD",
          "SHIB-USD",
          "SHIB-USD",
          "SHIB-USD",
          "SHIB-USD",
          "SHIB-USD",
          "SHIB-USD",
          "SHIB-USD",
          "SHIB-USD",
          "SHIB-USD",
          "SHIB-USD",
          "SHIB-USD",
          "SHIB-USD",
          "SHIB-USD",
          "SHIB-USD",
          "SHIB-USD",
          "SHIB-USD",
          "SHIB-USD",
          "SHIB-USD",
          "SHIB-USD",
          "SHIB-USD",
          "SHIB-USD",
          "SHIB-USD",
          "SHIB-USD",
          "SHIB-USD",
          "SHIB-USD",
          "SHIB-USD",
          "SHIB-USD",
          "XRP-USD",
          "XRP-USD",
          "XRP-USD",
          "XRP-USD",
          "XRP-USD",
          "XRP-USD",
          "XRP-USD",
          "XRP-USD",
          "XRP-USD",
          "XRP-USD",
          "XRP-USD",
          "XRP-USD",
          "XRP-USD",
          "XRP-USD",
          "XRP-USD",
          "XRP-USD",
          "XRP-USD",
          "XRP-USD",
          "XRP-USD",
          "XRP-USD",
          "XRP-USD",
          "XRP-USD",
          "XRP-USD",
          "XRP-USD",
          "XRP-USD",
          "XRP-USD",
          "XRP-USD",
          "XRP-USD",
          "XRP-USD",
          "XRP-USD",
          "XRP-USD",
          "XRP-USD",
          "XRP-USD",
          "XRP-USD",
          "XRP-USD",
          "XRP-USD",
          "XRP-USD",
          "XRP-USD",
          "XRP-USD",
          "XRP-USD",
          "XRP-USD",
          "XRP-USD",
          "XRP-USD",
          "XRP-USD",
          "XRP-USD",
          "XRP-USD",
          "XRP-USD",
          "XRP-USD",
          "XRP-USD",
          "XRP-USD"
         ],
         "x0": " ",
         "xaxis": "x",
         "y": [
          -13.729757099174645,
          14.465080924278825,
          2.7882547348656352,
          -22.593357600412137,
          -28.973520399690127,
          2.5766180022242473,
          0.5150939321319021,
          8.637891336044653,
          -9.09647369852038,
          -2.981551432005902,
          1.8249297047360087,
          -3.0136736482316557,
          -7.403403982200767,
          10.593770894241182,
          12.294792391845371,
          9.133920952288502,
          7.1556355200119475,
          4.721599517225906,
          -1.0021742044327697,
          5.814888851377073,
          -11.64744506619868,
          2.565302434654346,
          -8.963076119706232,
          10.931990934469994,
          12.781336351018552,
          11.673720712560407,
          -1.0169235377919503,
          0.6349661432588242,
          3.2222548204459476,
          3.3232159079261447,
          -10.858496855388289,
          -2.5558093314065493,
          -14.808107962480987,
          1.4668181691706246,
          -7.009341181094722,
          8.418927158795494,
          -7.061781473099639,
          -12.19031622296928,
          2.828228612471034,
          -17.266641395481656,
          4.423687774734012,
          11.202613893318635,
          -0.5080216522097357,
          -9.348706294552391,
          -1.8954670925916288,
          1.8658136659066797,
          -1.4955646302409653,
          8.597626082874447,
          7.590943337216243,
          3.242725138875547,
          3.4670373805053987,
          24.263464776827036,
          28.58434916049437,
          -9.08881375462316,
          -53.096848556697964,
          12.49323516954562,
          12.740497495613951,
          -7.918437194148092,
          -11.032861902455714,
          -12.67746996064977,
          15.977163239388501,
          -8.166088644086397,
          -12.113902445628115,
          14.50184892212945,
          15.620181061598235,
          16.24489446047767,
          9.392109022348171,
          -2.087444687811691,
          -0.46722969278367177,
          20.270182576484586,
          -14.750383141295536,
          -2.3945215733679652,
          -8.3651561294811,
          11.00055441964813,
          0.21899217174316293,
          11.597035687598497,
          6.0711357874640175,
          4.780558882682675,
          7.467702802033566,
          0.12553810381029248,
          -8.021886618480996,
          0.5773057771533919,
          -2.263923151890532,
          -1.5330036631998094,
          -5.260226987506174,
          3.6233508817894875,
          -6.023509911461854,
          -19.289099185804123,
          5.937528198697187,
          -27.902644835261896,
          2.663480030480909,
          16.074591677316118,
          -5.859762950318324,
          -9.252232176394717,
          -0.26080367639544977,
          -2.5794931921445374,
          -1.4226846954580465,
          12.714218498742955,
          9.425251250566742,
          2.6166215556490418,
          -69.31471805599453,
          69.31471805599453,
          207.94415416798358,
          11.778307355199532,
          -81.09302541119406,
          0,
          11.778307355199532,
          -25.131444993554126,
          13.353137638354596,
          0,
          11.778307355199532,
          -11.778307355199539,
          -13.353137638354593,
          -15.415065817262303,
          0,
          15.415065817262311,
          25.13144499355413,
          -11.778307355199539,
          -13.353137638354593,
          13.353137638354596,
          -13.353137638354593,
          13.353137638354596,
          -13.353137638354593,
          25.13144499355413,
          106.08719140445093,
          7.410799713984012,
          25.13144499355413,
          62.117365831061036,
          -16.164134488821713,
          -7.2759378367028,
          -18.610226715365894,
          -12.06280301893007,
          -8.004263771240556,
          2.7398982381760075,
          -17.69307652502879,
          20.35989243585663,
          -11.122557316321602,
          -19.415601826236372,
          10.17826670670135,
          -34.29447297897112,
          -4.652003138371887,
          28.768209410641653,
          6.899283250860686,
          -14.310082964844693,
          -12.26022886326612,
          4.255962759987819,
          -8.701140455007465,
          4.44517769501965,
          4.255962759987819,
          3.3883283297827007,
          -30.900065962856065,
          41.46306490106357,
          -1.7656123027008757,
          -5.5362072201233525,
          -60.02409246653679,
          12.883775092589989,
          4.17762374411887,
          -6.798112267838465,
          -12.886812343943078,
          -18.241097040449315,
          7.160538851436464,
          -8.873630347444347,
          -7.850212327538057,
          3.087463893744138,
          17.99736692486859,
          7.0233358195223,
          50.32941831492541,
          -4.805435809252226,
          -7.340268484233071,
          13.482680560446832,
          -15.358089520214074,
          -6.571172961627997,
          -10.415760602532652,
          11.05675981310311,
          7.596838170843934,
          -4.031607730514001,
          -0.8435318128448062,
          2.6362069809304987,
          8.95464537611046,
          -2.405386775865785,
          -11.434145452820115,
          -9.017978740428424,
          -18.442651573812956,
          4.339569695483786,
          -0.750556340126697,
          9.818422313506678,
          -6.9749203724614794,
          -12.984438705482843,
          3.189015459587442,
          -21.42087884553277,
          -4.1525917919469055,
          12.522434379111699,
          16.99295488074367,
          -4.026431103713271,
          -7.509282614952986,
          0.5527657354300981,
          4.7552734952369,
          5.713937227779809,
          3.252607004056977,
          1.4854627414136683
         ],
         "y0": " ",
         "yaxis": "y"
        }
       ],
       "layout": {
        "boxmode": "group",
        "legend": {
         "tracegroupgap": 0
        },
        "template": {
         "data": {
          "bar": [
           {
            "error_x": {
             "color": "#2a3f5f"
            },
            "error_y": {
             "color": "#2a3f5f"
            },
            "marker": {
             "line": {
              "color": "#E5ECF6",
              "width": 0.5
             },
             "pattern": {
              "fillmode": "overlay",
              "size": 10,
              "solidity": 0.2
             }
            },
            "type": "bar"
           }
          ],
          "barpolar": [
           {
            "marker": {
             "line": {
              "color": "#E5ECF6",
              "width": 0.5
             },
             "pattern": {
              "fillmode": "overlay",
              "size": 10,
              "solidity": 0.2
             }
            },
            "type": "barpolar"
           }
          ],
          "carpet": [
           {
            "aaxis": {
             "endlinecolor": "#2a3f5f",
             "gridcolor": "white",
             "linecolor": "white",
             "minorgridcolor": "white",
             "startlinecolor": "#2a3f5f"
            },
            "baxis": {
             "endlinecolor": "#2a3f5f",
             "gridcolor": "white",
             "linecolor": "white",
             "minorgridcolor": "white",
             "startlinecolor": "#2a3f5f"
            },
            "type": "carpet"
           }
          ],
          "choropleth": [
           {
            "colorbar": {
             "outlinewidth": 0,
             "ticks": ""
            },
            "type": "choropleth"
           }
          ],
          "contour": [
           {
            "colorbar": {
             "outlinewidth": 0,
             "ticks": ""
            },
            "colorscale": [
             [
              0,
              "#0d0887"
             ],
             [
              0.1111111111111111,
              "#46039f"
             ],
             [
              0.2222222222222222,
              "#7201a8"
             ],
             [
              0.3333333333333333,
              "#9c179e"
             ],
             [
              0.4444444444444444,
              "#bd3786"
             ],
             [
              0.5555555555555556,
              "#d8576b"
             ],
             [
              0.6666666666666666,
              "#ed7953"
             ],
             [
              0.7777777777777778,
              "#fb9f3a"
             ],
             [
              0.8888888888888888,
              "#fdca26"
             ],
             [
              1,
              "#f0f921"
             ]
            ],
            "type": "contour"
           }
          ],
          "contourcarpet": [
           {
            "colorbar": {
             "outlinewidth": 0,
             "ticks": ""
            },
            "type": "contourcarpet"
           }
          ],
          "heatmap": [
           {
            "colorbar": {
             "outlinewidth": 0,
             "ticks": ""
            },
            "colorscale": [
             [
              0,
              "#0d0887"
             ],
             [
              0.1111111111111111,
              "#46039f"
             ],
             [
              0.2222222222222222,
              "#7201a8"
             ],
             [
              0.3333333333333333,
              "#9c179e"
             ],
             [
              0.4444444444444444,
              "#bd3786"
             ],
             [
              0.5555555555555556,
              "#d8576b"
             ],
             [
              0.6666666666666666,
              "#ed7953"
             ],
             [
              0.7777777777777778,
              "#fb9f3a"
             ],
             [
              0.8888888888888888,
              "#fdca26"
             ],
             [
              1,
              "#f0f921"
             ]
            ],
            "type": "heatmap"
           }
          ],
          "heatmapgl": [
           {
            "colorbar": {
             "outlinewidth": 0,
             "ticks": ""
            },
            "colorscale": [
             [
              0,
              "#0d0887"
             ],
             [
              0.1111111111111111,
              "#46039f"
             ],
             [
              0.2222222222222222,
              "#7201a8"
             ],
             [
              0.3333333333333333,
              "#9c179e"
             ],
             [
              0.4444444444444444,
              "#bd3786"
             ],
             [
              0.5555555555555556,
              "#d8576b"
             ],
             [
              0.6666666666666666,
              "#ed7953"
             ],
             [
              0.7777777777777778,
              "#fb9f3a"
             ],
             [
              0.8888888888888888,
              "#fdca26"
             ],
             [
              1,
              "#f0f921"
             ]
            ],
            "type": "heatmapgl"
           }
          ],
          "histogram": [
           {
            "marker": {
             "pattern": {
              "fillmode": "overlay",
              "size": 10,
              "solidity": 0.2
             }
            },
            "type": "histogram"
           }
          ],
          "histogram2d": [
           {
            "colorbar": {
             "outlinewidth": 0,
             "ticks": ""
            },
            "colorscale": [
             [
              0,
              "#0d0887"
             ],
             [
              0.1111111111111111,
              "#46039f"
             ],
             [
              0.2222222222222222,
              "#7201a8"
             ],
             [
              0.3333333333333333,
              "#9c179e"
             ],
             [
              0.4444444444444444,
              "#bd3786"
             ],
             [
              0.5555555555555556,
              "#d8576b"
             ],
             [
              0.6666666666666666,
              "#ed7953"
             ],
             [
              0.7777777777777778,
              "#fb9f3a"
             ],
             [
              0.8888888888888888,
              "#fdca26"
             ],
             [
              1,
              "#f0f921"
             ]
            ],
            "type": "histogram2d"
           }
          ],
          "histogram2dcontour": [
           {
            "colorbar": {
             "outlinewidth": 0,
             "ticks": ""
            },
            "colorscale": [
             [
              0,
              "#0d0887"
             ],
             [
              0.1111111111111111,
              "#46039f"
             ],
             [
              0.2222222222222222,
              "#7201a8"
             ],
             [
              0.3333333333333333,
              "#9c179e"
             ],
             [
              0.4444444444444444,
              "#bd3786"
             ],
             [
              0.5555555555555556,
              "#d8576b"
             ],
             [
              0.6666666666666666,
              "#ed7953"
             ],
             [
              0.7777777777777778,
              "#fb9f3a"
             ],
             [
              0.8888888888888888,
              "#fdca26"
             ],
             [
              1,
              "#f0f921"
             ]
            ],
            "type": "histogram2dcontour"
           }
          ],
          "mesh3d": [
           {
            "colorbar": {
             "outlinewidth": 0,
             "ticks": ""
            },
            "type": "mesh3d"
           }
          ],
          "parcoords": [
           {
            "line": {
             "colorbar": {
              "outlinewidth": 0,
              "ticks": ""
             }
            },
            "type": "parcoords"
           }
          ],
          "pie": [
           {
            "automargin": true,
            "type": "pie"
           }
          ],
          "scatter": [
           {
            "marker": {
             "colorbar": {
              "outlinewidth": 0,
              "ticks": ""
             }
            },
            "type": "scatter"
           }
          ],
          "scatter3d": [
           {
            "line": {
             "colorbar": {
              "outlinewidth": 0,
              "ticks": ""
             }
            },
            "marker": {
             "colorbar": {
              "outlinewidth": 0,
              "ticks": ""
             }
            },
            "type": "scatter3d"
           }
          ],
          "scattercarpet": [
           {
            "marker": {
             "colorbar": {
              "outlinewidth": 0,
              "ticks": ""
             }
            },
            "type": "scattercarpet"
           }
          ],
          "scattergeo": [
           {
            "marker": {
             "colorbar": {
              "outlinewidth": 0,
              "ticks": ""
             }
            },
            "type": "scattergeo"
           }
          ],
          "scattergl": [
           {
            "marker": {
             "colorbar": {
              "outlinewidth": 0,
              "ticks": ""
             }
            },
            "type": "scattergl"
           }
          ],
          "scattermapbox": [
           {
            "marker": {
             "colorbar": {
              "outlinewidth": 0,
              "ticks": ""
             }
            },
            "type": "scattermapbox"
           }
          ],
          "scatterpolar": [
           {
            "marker": {
             "colorbar": {
              "outlinewidth": 0,
              "ticks": ""
             }
            },
            "type": "scatterpolar"
           }
          ],
          "scatterpolargl": [
           {
            "marker": {
             "colorbar": {
              "outlinewidth": 0,
              "ticks": ""
             }
            },
            "type": "scatterpolargl"
           }
          ],
          "scatterternary": [
           {
            "marker": {
             "colorbar": {
              "outlinewidth": 0,
              "ticks": ""
             }
            },
            "type": "scatterternary"
           }
          ],
          "surface": [
           {
            "colorbar": {
             "outlinewidth": 0,
             "ticks": ""
            },
            "colorscale": [
             [
              0,
              "#0d0887"
             ],
             [
              0.1111111111111111,
              "#46039f"
             ],
             [
              0.2222222222222222,
              "#7201a8"
             ],
             [
              0.3333333333333333,
              "#9c179e"
             ],
             [
              0.4444444444444444,
              "#bd3786"
             ],
             [
              0.5555555555555556,
              "#d8576b"
             ],
             [
              0.6666666666666666,
              "#ed7953"
             ],
             [
              0.7777777777777778,
              "#fb9f3a"
             ],
             [
              0.8888888888888888,
              "#fdca26"
             ],
             [
              1,
              "#f0f921"
             ]
            ],
            "type": "surface"
           }
          ],
          "table": [
           {
            "cells": {
             "fill": {
              "color": "#EBF0F8"
             },
             "line": {
              "color": "white"
             }
            },
            "header": {
             "fill": {
              "color": "#C8D4E3"
             },
             "line": {
              "color": "white"
             }
            },
            "type": "table"
           }
          ]
         },
         "layout": {
          "annotationdefaults": {
           "arrowcolor": "#2a3f5f",
           "arrowhead": 0,
           "arrowwidth": 1
          },
          "autotypenumbers": "strict",
          "coloraxis": {
           "colorbar": {
            "outlinewidth": 0,
            "ticks": ""
           }
          },
          "colorscale": {
           "diverging": [
            [
             0,
             "#8e0152"
            ],
            [
             0.1,
             "#c51b7d"
            ],
            [
             0.2,
             "#de77ae"
            ],
            [
             0.3,
             "#f1b6da"
            ],
            [
             0.4,
             "#fde0ef"
            ],
            [
             0.5,
             "#f7f7f7"
            ],
            [
             0.6,
             "#e6f5d0"
            ],
            [
             0.7,
             "#b8e186"
            ],
            [
             0.8,
             "#7fbc41"
            ],
            [
             0.9,
             "#4d9221"
            ],
            [
             1,
             "#276419"
            ]
           ],
           "sequential": [
            [
             0,
             "#0d0887"
            ],
            [
             0.1111111111111111,
             "#46039f"
            ],
            [
             0.2222222222222222,
             "#7201a8"
            ],
            [
             0.3333333333333333,
             "#9c179e"
            ],
            [
             0.4444444444444444,
             "#bd3786"
            ],
            [
             0.5555555555555556,
             "#d8576b"
            ],
            [
             0.6666666666666666,
             "#ed7953"
            ],
            [
             0.7777777777777778,
             "#fb9f3a"
            ],
            [
             0.8888888888888888,
             "#fdca26"
            ],
            [
             1,
             "#f0f921"
            ]
           ],
           "sequentialminus": [
            [
             0,
             "#0d0887"
            ],
            [
             0.1111111111111111,
             "#46039f"
            ],
            [
             0.2222222222222222,
             "#7201a8"
            ],
            [
             0.3333333333333333,
             "#9c179e"
            ],
            [
             0.4444444444444444,
             "#bd3786"
            ],
            [
             0.5555555555555556,
             "#d8576b"
            ],
            [
             0.6666666666666666,
             "#ed7953"
            ],
            [
             0.7777777777777778,
             "#fb9f3a"
            ],
            [
             0.8888888888888888,
             "#fdca26"
            ],
            [
             1,
             "#f0f921"
            ]
           ]
          },
          "colorway": [
           "#636efa",
           "#EF553B",
           "#00cc96",
           "#ab63fa",
           "#FFA15A",
           "#19d3f3",
           "#FF6692",
           "#B6E880",
           "#FF97FF",
           "#FECB52"
          ],
          "font": {
           "color": "#2a3f5f"
          },
          "geo": {
           "bgcolor": "white",
           "lakecolor": "white",
           "landcolor": "#E5ECF6",
           "showlakes": true,
           "showland": true,
           "subunitcolor": "white"
          },
          "hoverlabel": {
           "align": "left"
          },
          "hovermode": "closest",
          "mapbox": {
           "style": "light"
          },
          "paper_bgcolor": "white",
          "plot_bgcolor": "#E5ECF6",
          "polar": {
           "angularaxis": {
            "gridcolor": "white",
            "linecolor": "white",
            "ticks": ""
           },
           "bgcolor": "#E5ECF6",
           "radialaxis": {
            "gridcolor": "white",
            "linecolor": "white",
            "ticks": ""
           }
          },
          "scene": {
           "xaxis": {
            "backgroundcolor": "#E5ECF6",
            "gridcolor": "white",
            "gridwidth": 2,
            "linecolor": "white",
            "showbackground": true,
            "ticks": "",
            "zerolinecolor": "white"
           },
           "yaxis": {
            "backgroundcolor": "#E5ECF6",
            "gridcolor": "white",
            "gridwidth": 2,
            "linecolor": "white",
            "showbackground": true,
            "ticks": "",
            "zerolinecolor": "white"
           },
           "zaxis": {
            "backgroundcolor": "#E5ECF6",
            "gridcolor": "white",
            "gridwidth": 2,
            "linecolor": "white",
            "showbackground": true,
            "ticks": "",
            "zerolinecolor": "white"
           }
          },
          "shapedefaults": {
           "line": {
            "color": "#2a3f5f"
           }
          },
          "ternary": {
           "aaxis": {
            "gridcolor": "white",
            "linecolor": "white",
            "ticks": ""
           },
           "baxis": {
            "gridcolor": "white",
            "linecolor": "white",
            "ticks": ""
           },
           "bgcolor": "#E5ECF6",
           "caxis": {
            "gridcolor": "white",
            "linecolor": "white",
            "ticks": ""
           }
          },
          "title": {
           "x": 0.05
          },
          "xaxis": {
           "automargin": true,
           "gridcolor": "white",
           "linecolor": "white",
           "ticks": "",
           "title": {
            "standoff": 15
           },
           "zerolinecolor": "white",
           "zerolinewidth": 2
          },
          "yaxis": {
           "automargin": true,
           "gridcolor": "white",
           "linecolor": "white",
           "ticks": "",
           "title": {
            "standoff": 15
           },
           "zerolinecolor": "white",
           "zerolinewidth": 2
          }
         }
        },
        "title": {
         "text": "Distribution of Weekly Returns"
        },
        "xaxis": {
         "anchor": "y",
         "domain": [
          0,
          1
         ],
         "title": {
          "text": "coin"
         }
        },
        "yaxis": {
         "anchor": "x",
         "domain": [
          0,
          1
         ],
         "title": {
          "text": "Weekly return (%)"
         }
        }
       }
      },
      "text/html": [
       "<div>                            <div id=\"5de92585-00b9-4310-ba52-05c3880f387d\" class=\"plotly-graph-div\" style=\"height:525px; width:100%;\"></div>            <script type=\"text/javascript\">                require([\"plotly\"], function(Plotly) {                    window.PLOTLYENV=window.PLOTLYENV || {};                                    if (document.getElementById(\"5de92585-00b9-4310-ba52-05c3880f387d\")) {                    Plotly.newPlot(                        \"5de92585-00b9-4310-ba52-05c3880f387d\",                        [{\"alignmentgroup\":\"True\",\"hovertemplate\":\"variable=%{x}<br>value=%{y}<extra></extra>\",\"legendgroup\":\"\",\"marker\":{\"color\":\"#636efa\"},\"name\":\"\",\"notched\":false,\"offsetgroup\":\"\",\"orientation\":\"v\",\"showlegend\":false,\"x\":[\"BTC-USD\",\"BTC-USD\",\"BTC-USD\",\"BTC-USD\",\"BTC-USD\",\"BTC-USD\",\"BTC-USD\",\"BTC-USD\",\"BTC-USD\",\"BTC-USD\",\"BTC-USD\",\"BTC-USD\",\"BTC-USD\",\"BTC-USD\",\"BTC-USD\",\"BTC-USD\",\"BTC-USD\",\"BTC-USD\",\"BTC-USD\",\"BTC-USD\",\"BTC-USD\",\"BTC-USD\",\"BTC-USD\",\"BTC-USD\",\"BTC-USD\",\"BTC-USD\",\"BTC-USD\",\"BTC-USD\",\"BTC-USD\",\"BTC-USD\",\"BTC-USD\",\"BTC-USD\",\"BTC-USD\",\"BTC-USD\",\"BTC-USD\",\"BTC-USD\",\"BTC-USD\",\"BTC-USD\",\"BTC-USD\",\"BTC-USD\",\"BTC-USD\",\"BTC-USD\",\"BTC-USD\",\"BTC-USD\",\"BTC-USD\",\"BTC-USD\",\"BTC-USD\",\"BTC-USD\",\"BTC-USD\",\"BTC-USD\",\"ETH-USD\",\"ETH-USD\",\"ETH-USD\",\"ETH-USD\",\"ETH-USD\",\"ETH-USD\",\"ETH-USD\",\"ETH-USD\",\"ETH-USD\",\"ETH-USD\",\"ETH-USD\",\"ETH-USD\",\"ETH-USD\",\"ETH-USD\",\"ETH-USD\",\"ETH-USD\",\"ETH-USD\",\"ETH-USD\",\"ETH-USD\",\"ETH-USD\",\"ETH-USD\",\"ETH-USD\",\"ETH-USD\",\"ETH-USD\",\"ETH-USD\",\"ETH-USD\",\"ETH-USD\",\"ETH-USD\",\"ETH-USD\",\"ETH-USD\",\"ETH-USD\",\"ETH-USD\",\"ETH-USD\",\"ETH-USD\",\"ETH-USD\",\"ETH-USD\",\"ETH-USD\",\"ETH-USD\",\"ETH-USD\",\"ETH-USD\",\"ETH-USD\",\"ETH-USD\",\"ETH-USD\",\"ETH-USD\",\"ETH-USD\",\"ETH-USD\",\"ETH-USD\",\"ETH-USD\",\"ETH-USD\",\"ETH-USD\",\"SHIB-USD\",\"SHIB-USD\",\"SHIB-USD\",\"SHIB-USD\",\"SHIB-USD\",\"SHIB-USD\",\"SHIB-USD\",\"SHIB-USD\",\"SHIB-USD\",\"SHIB-USD\",\"SHIB-USD\",\"SHIB-USD\",\"SHIB-USD\",\"SHIB-USD\",\"SHIB-USD\",\"SHIB-USD\",\"SHIB-USD\",\"SHIB-USD\",\"SHIB-USD\",\"SHIB-USD\",\"SHIB-USD\",\"SHIB-USD\",\"SHIB-USD\",\"SHIB-USD\",\"SHIB-USD\",\"SHIB-USD\",\"SHIB-USD\",\"SHIB-USD\",\"SHIB-USD\",\"SHIB-USD\",\"SHIB-USD\",\"SHIB-USD\",\"SHIB-USD\",\"SHIB-USD\",\"SHIB-USD\",\"SHIB-USD\",\"SHIB-USD\",\"SHIB-USD\",\"SHIB-USD\",\"SHIB-USD\",\"SHIB-USD\",\"SHIB-USD\",\"SHIB-USD\",\"SHIB-USD\",\"SHIB-USD\",\"SHIB-USD\",\"SHIB-USD\",\"SHIB-USD\",\"SHIB-USD\",\"SHIB-USD\",\"XRP-USD\",\"XRP-USD\",\"XRP-USD\",\"XRP-USD\",\"XRP-USD\",\"XRP-USD\",\"XRP-USD\",\"XRP-USD\",\"XRP-USD\",\"XRP-USD\",\"XRP-USD\",\"XRP-USD\",\"XRP-USD\",\"XRP-USD\",\"XRP-USD\",\"XRP-USD\",\"XRP-USD\",\"XRP-USD\",\"XRP-USD\",\"XRP-USD\",\"XRP-USD\",\"XRP-USD\",\"XRP-USD\",\"XRP-USD\",\"XRP-USD\",\"XRP-USD\",\"XRP-USD\",\"XRP-USD\",\"XRP-USD\",\"XRP-USD\",\"XRP-USD\",\"XRP-USD\",\"XRP-USD\",\"XRP-USD\",\"XRP-USD\",\"XRP-USD\",\"XRP-USD\",\"XRP-USD\",\"XRP-USD\",\"XRP-USD\",\"XRP-USD\",\"XRP-USD\",\"XRP-USD\",\"XRP-USD\",\"XRP-USD\",\"XRP-USD\",\"XRP-USD\",\"XRP-USD\",\"XRP-USD\",\"XRP-USD\"],\"x0\":\" \",\"xaxis\":\"x\",\"y\":[-13.729757099174645,14.465080924278825,2.7882547348656352,-22.593357600412137,-28.973520399690127,2.5766180022242473,0.5150939321319021,8.637891336044653,-9.09647369852038,-2.981551432005902,1.8249297047360087,-3.0136736482316557,-7.403403982200767,10.593770894241182,12.294792391845371,9.133920952288502,7.1556355200119475,4.721599517225906,-1.0021742044327697,5.814888851377073,-11.64744506619868,2.565302434654346,-8.963076119706232,10.931990934469994,12.781336351018552,11.673720712560407,-1.0169235377919503,0.6349661432588242,3.2222548204459476,3.3232159079261447,-10.858496855388289,-2.5558093314065493,-14.808107962480987,1.4668181691706246,-7.009341181094722,8.418927158795494,-7.061781473099639,-12.19031622296928,2.828228612471034,-17.266641395481656,4.423687774734012,11.202613893318635,-0.5080216522097357,-9.348706294552391,-1.8954670925916288,1.8658136659066797,-1.4955646302409653,8.597626082874447,7.590943337216243,3.242725138875547,3.4670373805053987,24.263464776827036,28.58434916049437,-9.08881375462316,-53.096848556697964,12.49323516954562,12.740497495613951,-7.918437194148092,-11.032861902455714,-12.67746996064977,15.977163239388501,-8.166088644086397,-12.113902445628115,14.50184892212945,15.620181061598235,16.24489446047767,9.392109022348171,-2.087444687811691,-0.46722969278367177,20.270182576484586,-14.750383141295536,-2.3945215733679652,-8.3651561294811,11.00055441964813,0.21899217174316293,11.597035687598497,6.0711357874640175,4.780558882682675,7.467702802033566,0.12553810381029248,-8.021886618480996,0.5773057771533919,-2.263923151890532,-1.5330036631998094,-5.260226987506174,3.6233508817894875,-6.023509911461854,-19.289099185804123,5.937528198697187,-27.902644835261896,2.663480030480909,16.074591677316118,-5.859762950318324,-9.252232176394717,-0.26080367639544977,-2.5794931921445374,-1.4226846954580465,12.714218498742955,9.425251250566742,2.6166215556490418,-69.31471805599453,69.31471805599453,207.94415416798358,11.778307355199532,-81.09302541119406,0.0,11.778307355199532,-25.131444993554126,13.353137638354596,0.0,11.778307355199532,-11.778307355199539,-13.353137638354593,-15.415065817262303,0.0,15.415065817262311,25.13144499355413,-11.778307355199539,-13.353137638354593,13.353137638354596,-13.353137638354593,13.353137638354596,-13.353137638354593,25.13144499355413,106.08719140445093,7.410799713984012,25.13144499355413,62.117365831061036,-16.164134488821713,-7.2759378367028,-18.610226715365894,-12.06280301893007,-8.004263771240556,2.7398982381760075,-17.69307652502879,20.35989243585663,-11.122557316321602,-19.415601826236372,10.17826670670135,-34.29447297897112,-4.652003138371887,28.768209410641653,6.899283250860686,-14.310082964844693,-12.26022886326612,4.255962759987819,-8.701140455007465,4.44517769501965,4.255962759987819,3.3883283297827007,-30.900065962856065,41.46306490106357,-1.7656123027008757,-5.5362072201233525,-60.02409246653679,12.883775092589989,4.17762374411887,-6.798112267838465,-12.886812343943078,-18.241097040449315,7.160538851436464,-8.873630347444347,-7.850212327538057,3.087463893744138,17.99736692486859,7.0233358195223,50.32941831492541,-4.805435809252226,-7.340268484233071,13.482680560446832,-15.358089520214074,-6.571172961627997,-10.415760602532652,11.05675981310311,7.596838170843934,-4.031607730514001,-0.8435318128448062,2.6362069809304987,8.95464537611046,-2.405386775865785,-11.434145452820115,-9.017978740428424,-18.442651573812956,4.339569695483786,-0.750556340126697,9.818422313506678,-6.9749203724614794,-12.984438705482843,3.189015459587442,-21.42087884553277,-4.1525917919469055,12.522434379111699,16.99295488074367,-4.026431103713271,-7.509282614952986,0.5527657354300981,4.7552734952369,5.713937227779809,3.252607004056977,1.4854627414136683],\"y0\":\" \",\"yaxis\":\"y\",\"type\":\"box\"}],                        {\"template\":{\"data\":{\"bar\":[{\"error_x\":{\"color\":\"#2a3f5f\"},\"error_y\":{\"color\":\"#2a3f5f\"},\"marker\":{\"line\":{\"color\":\"#E5ECF6\",\"width\":0.5},\"pattern\":{\"fillmode\":\"overlay\",\"size\":10,\"solidity\":0.2}},\"type\":\"bar\"}],\"barpolar\":[{\"marker\":{\"line\":{\"color\":\"#E5ECF6\",\"width\":0.5},\"pattern\":{\"fillmode\":\"overlay\",\"size\":10,\"solidity\":0.2}},\"type\":\"barpolar\"}],\"carpet\":[{\"aaxis\":{\"endlinecolor\":\"#2a3f5f\",\"gridcolor\":\"white\",\"linecolor\":\"white\",\"minorgridcolor\":\"white\",\"startlinecolor\":\"#2a3f5f\"},\"baxis\":{\"endlinecolor\":\"#2a3f5f\",\"gridcolor\":\"white\",\"linecolor\":\"white\",\"minorgridcolor\":\"white\",\"startlinecolor\":\"#2a3f5f\"},\"type\":\"carpet\"}],\"choropleth\":[{\"colorbar\":{\"outlinewidth\":0,\"ticks\":\"\"},\"type\":\"choropleth\"}],\"contour\":[{\"colorbar\":{\"outlinewidth\":0,\"ticks\":\"\"},\"colorscale\":[[0.0,\"#0d0887\"],[0.1111111111111111,\"#46039f\"],[0.2222222222222222,\"#7201a8\"],[0.3333333333333333,\"#9c179e\"],[0.4444444444444444,\"#bd3786\"],[0.5555555555555556,\"#d8576b\"],[0.6666666666666666,\"#ed7953\"],[0.7777777777777778,\"#fb9f3a\"],[0.8888888888888888,\"#fdca26\"],[1.0,\"#f0f921\"]],\"type\":\"contour\"}],\"contourcarpet\":[{\"colorbar\":{\"outlinewidth\":0,\"ticks\":\"\"},\"type\":\"contourcarpet\"}],\"heatmap\":[{\"colorbar\":{\"outlinewidth\":0,\"ticks\":\"\"},\"colorscale\":[[0.0,\"#0d0887\"],[0.1111111111111111,\"#46039f\"],[0.2222222222222222,\"#7201a8\"],[0.3333333333333333,\"#9c179e\"],[0.4444444444444444,\"#bd3786\"],[0.5555555555555556,\"#d8576b\"],[0.6666666666666666,\"#ed7953\"],[0.7777777777777778,\"#fb9f3a\"],[0.8888888888888888,\"#fdca26\"],[1.0,\"#f0f921\"]],\"type\":\"heatmap\"}],\"heatmapgl\":[{\"colorbar\":{\"outlinewidth\":0,\"ticks\":\"\"},\"colorscale\":[[0.0,\"#0d0887\"],[0.1111111111111111,\"#46039f\"],[0.2222222222222222,\"#7201a8\"],[0.3333333333333333,\"#9c179e\"],[0.4444444444444444,\"#bd3786\"],[0.5555555555555556,\"#d8576b\"],[0.6666666666666666,\"#ed7953\"],[0.7777777777777778,\"#fb9f3a\"],[0.8888888888888888,\"#fdca26\"],[1.0,\"#f0f921\"]],\"type\":\"heatmapgl\"}],\"histogram\":[{\"marker\":{\"pattern\":{\"fillmode\":\"overlay\",\"size\":10,\"solidity\":0.2}},\"type\":\"histogram\"}],\"histogram2d\":[{\"colorbar\":{\"outlinewidth\":0,\"ticks\":\"\"},\"colorscale\":[[0.0,\"#0d0887\"],[0.1111111111111111,\"#46039f\"],[0.2222222222222222,\"#7201a8\"],[0.3333333333333333,\"#9c179e\"],[0.4444444444444444,\"#bd3786\"],[0.5555555555555556,\"#d8576b\"],[0.6666666666666666,\"#ed7953\"],[0.7777777777777778,\"#fb9f3a\"],[0.8888888888888888,\"#fdca26\"],[1.0,\"#f0f921\"]],\"type\":\"histogram2d\"}],\"histogram2dcontour\":[{\"colorbar\":{\"outlinewidth\":0,\"ticks\":\"\"},\"colorscale\":[[0.0,\"#0d0887\"],[0.1111111111111111,\"#46039f\"],[0.2222222222222222,\"#7201a8\"],[0.3333333333333333,\"#9c179e\"],[0.4444444444444444,\"#bd3786\"],[0.5555555555555556,\"#d8576b\"],[0.6666666666666666,\"#ed7953\"],[0.7777777777777778,\"#fb9f3a\"],[0.8888888888888888,\"#fdca26\"],[1.0,\"#f0f921\"]],\"type\":\"histogram2dcontour\"}],\"mesh3d\":[{\"colorbar\":{\"outlinewidth\":0,\"ticks\":\"\"},\"type\":\"mesh3d\"}],\"parcoords\":[{\"line\":{\"colorbar\":{\"outlinewidth\":0,\"ticks\":\"\"}},\"type\":\"parcoords\"}],\"pie\":[{\"automargin\":true,\"type\":\"pie\"}],\"scatter\":[{\"marker\":{\"colorbar\":{\"outlinewidth\":0,\"ticks\":\"\"}},\"type\":\"scatter\"}],\"scatter3d\":[{\"line\":{\"colorbar\":{\"outlinewidth\":0,\"ticks\":\"\"}},\"marker\":{\"colorbar\":{\"outlinewidth\":0,\"ticks\":\"\"}},\"type\":\"scatter3d\"}],\"scattercarpet\":[{\"marker\":{\"colorbar\":{\"outlinewidth\":0,\"ticks\":\"\"}},\"type\":\"scattercarpet\"}],\"scattergeo\":[{\"marker\":{\"colorbar\":{\"outlinewidth\":0,\"ticks\":\"\"}},\"type\":\"scattergeo\"}],\"scattergl\":[{\"marker\":{\"colorbar\":{\"outlinewidth\":0,\"ticks\":\"\"}},\"type\":\"scattergl\"}],\"scattermapbox\":[{\"marker\":{\"colorbar\":{\"outlinewidth\":0,\"ticks\":\"\"}},\"type\":\"scattermapbox\"}],\"scatterpolar\":[{\"marker\":{\"colorbar\":{\"outlinewidth\":0,\"ticks\":\"\"}},\"type\":\"scatterpolar\"}],\"scatterpolargl\":[{\"marker\":{\"colorbar\":{\"outlinewidth\":0,\"ticks\":\"\"}},\"type\":\"scatterpolargl\"}],\"scatterternary\":[{\"marker\":{\"colorbar\":{\"outlinewidth\":0,\"ticks\":\"\"}},\"type\":\"scatterternary\"}],\"surface\":[{\"colorbar\":{\"outlinewidth\":0,\"ticks\":\"\"},\"colorscale\":[[0.0,\"#0d0887\"],[0.1111111111111111,\"#46039f\"],[0.2222222222222222,\"#7201a8\"],[0.3333333333333333,\"#9c179e\"],[0.4444444444444444,\"#bd3786\"],[0.5555555555555556,\"#d8576b\"],[0.6666666666666666,\"#ed7953\"],[0.7777777777777778,\"#fb9f3a\"],[0.8888888888888888,\"#fdca26\"],[1.0,\"#f0f921\"]],\"type\":\"surface\"}],\"table\":[{\"cells\":{\"fill\":{\"color\":\"#EBF0F8\"},\"line\":{\"color\":\"white\"}},\"header\":{\"fill\":{\"color\":\"#C8D4E3\"},\"line\":{\"color\":\"white\"}},\"type\":\"table\"}]},\"layout\":{\"annotationdefaults\":{\"arrowcolor\":\"#2a3f5f\",\"arrowhead\":0,\"arrowwidth\":1},\"autotypenumbers\":\"strict\",\"coloraxis\":{\"colorbar\":{\"outlinewidth\":0,\"ticks\":\"\"}},\"colorscale\":{\"diverging\":[[0,\"#8e0152\"],[0.1,\"#c51b7d\"],[0.2,\"#de77ae\"],[0.3,\"#f1b6da\"],[0.4,\"#fde0ef\"],[0.5,\"#f7f7f7\"],[0.6,\"#e6f5d0\"],[0.7,\"#b8e186\"],[0.8,\"#7fbc41\"],[0.9,\"#4d9221\"],[1,\"#276419\"]],\"sequential\":[[0.0,\"#0d0887\"],[0.1111111111111111,\"#46039f\"],[0.2222222222222222,\"#7201a8\"],[0.3333333333333333,\"#9c179e\"],[0.4444444444444444,\"#bd3786\"],[0.5555555555555556,\"#d8576b\"],[0.6666666666666666,\"#ed7953\"],[0.7777777777777778,\"#fb9f3a\"],[0.8888888888888888,\"#fdca26\"],[1.0,\"#f0f921\"]],\"sequentialminus\":[[0.0,\"#0d0887\"],[0.1111111111111111,\"#46039f\"],[0.2222222222222222,\"#7201a8\"],[0.3333333333333333,\"#9c179e\"],[0.4444444444444444,\"#bd3786\"],[0.5555555555555556,\"#d8576b\"],[0.6666666666666666,\"#ed7953\"],[0.7777777777777778,\"#fb9f3a\"],[0.8888888888888888,\"#fdca26\"],[1.0,\"#f0f921\"]]},\"colorway\":[\"#636efa\",\"#EF553B\",\"#00cc96\",\"#ab63fa\",\"#FFA15A\",\"#19d3f3\",\"#FF6692\",\"#B6E880\",\"#FF97FF\",\"#FECB52\"],\"font\":{\"color\":\"#2a3f5f\"},\"geo\":{\"bgcolor\":\"white\",\"lakecolor\":\"white\",\"landcolor\":\"#E5ECF6\",\"showlakes\":true,\"showland\":true,\"subunitcolor\":\"white\"},\"hoverlabel\":{\"align\":\"left\"},\"hovermode\":\"closest\",\"mapbox\":{\"style\":\"light\"},\"paper_bgcolor\":\"white\",\"plot_bgcolor\":\"#E5ECF6\",\"polar\":{\"angularaxis\":{\"gridcolor\":\"white\",\"linecolor\":\"white\",\"ticks\":\"\"},\"bgcolor\":\"#E5ECF6\",\"radialaxis\":{\"gridcolor\":\"white\",\"linecolor\":\"white\",\"ticks\":\"\"}},\"scene\":{\"xaxis\":{\"backgroundcolor\":\"#E5ECF6\",\"gridcolor\":\"white\",\"gridwidth\":2,\"linecolor\":\"white\",\"showbackground\":true,\"ticks\":\"\",\"zerolinecolor\":\"white\"},\"yaxis\":{\"backgroundcolor\":\"#E5ECF6\",\"gridcolor\":\"white\",\"gridwidth\":2,\"linecolor\":\"white\",\"showbackground\":true,\"ticks\":\"\",\"zerolinecolor\":\"white\"},\"zaxis\":{\"backgroundcolor\":\"#E5ECF6\",\"gridcolor\":\"white\",\"gridwidth\":2,\"linecolor\":\"white\",\"showbackground\":true,\"ticks\":\"\",\"zerolinecolor\":\"white\"}},\"shapedefaults\":{\"line\":{\"color\":\"#2a3f5f\"}},\"ternary\":{\"aaxis\":{\"gridcolor\":\"white\",\"linecolor\":\"white\",\"ticks\":\"\"},\"baxis\":{\"gridcolor\":\"white\",\"linecolor\":\"white\",\"ticks\":\"\"},\"bgcolor\":\"#E5ECF6\",\"caxis\":{\"gridcolor\":\"white\",\"linecolor\":\"white\",\"ticks\":\"\"}},\"title\":{\"x\":0.05},\"xaxis\":{\"automargin\":true,\"gridcolor\":\"white\",\"linecolor\":\"white\",\"ticks\":\"\",\"title\":{\"standoff\":15},\"zerolinecolor\":\"white\",\"zerolinewidth\":2},\"yaxis\":{\"automargin\":true,\"gridcolor\":\"white\",\"linecolor\":\"white\",\"ticks\":\"\",\"title\":{\"standoff\":15},\"zerolinecolor\":\"white\",\"zerolinewidth\":2}}},\"xaxis\":{\"anchor\":\"y\",\"domain\":[0.0,1.0],\"title\":{\"text\":\"coin\"}},\"yaxis\":{\"anchor\":\"x\",\"domain\":[0.0,1.0],\"title\":{\"text\":\"Weekly return (%)\"}},\"legend\":{\"tracegroupgap\":0},\"title\":{\"text\":\"Distribution of Weekly Returns\"},\"boxmode\":\"group\"},                        {\"responsive\": true}                    ).then(function(){\n",
       "                            \n",
       "var gd = document.getElementById('5de92585-00b9-4310-ba52-05c3880f387d');\n",
       "var x = new MutationObserver(function (mutations, observer) {{\n",
       "        var display = window.getComputedStyle(gd).display;\n",
       "        if (!display || display === 'none') {{\n",
       "            console.log([gd, 'removed!']);\n",
       "            Plotly.purge(gd);\n",
       "            observer.disconnect();\n",
       "        }}\n",
       "}});\n",
       "\n",
       "// Listen for the removal of the full notebook cells\n",
       "var notebookContainer = gd.closest('#notebook-container');\n",
       "if (notebookContainer) {{\n",
       "    x.observe(notebookContainer, {childList: true});\n",
       "}}\n",
       "\n",
       "// Listen for the clearing of the current output cell\n",
       "var outputEl = gd.closest('.output');\n",
       "if (outputEl) {{\n",
       "    x.observe(outputEl, {childList: true});\n",
       "}}\n",
       "\n",
       "                        })                };                });            </script>        </div>"
      ]
     },
     "metadata": {},
     "output_type": "display_data"
    }
   ],
   "source": [
    "fig = px.box(df, title='Distribution of Weekly Returns')\n",
    "fig.update_layout(yaxis_title='Weekly return (%)', xaxis_title='coin')\n",
    "fig.show()"
   ]
  },
  {
   "cell_type": "markdown",
   "id": "cef108c5",
   "metadata": {},
   "source": [
    "### Correlation Matrix"
   ]
  },
  {
   "cell_type": "code",
   "execution_count": 16,
   "id": "195ca62a",
   "metadata": {},
   "outputs": [
    {
     "data": {
      "text/html": [
       "<div>\n",
       "<style scoped>\n",
       "    .dataframe tbody tr th:only-of-type {\n",
       "        vertical-align: middle;\n",
       "    }\n",
       "\n",
       "    .dataframe tbody tr th {\n",
       "        vertical-align: top;\n",
       "    }\n",
       "\n",
       "    .dataframe thead th {\n",
       "        text-align: right;\n",
       "    }\n",
       "</style>\n",
       "<table border=\"1\" class=\"dataframe\">\n",
       "  <thead>\n",
       "    <tr style=\"text-align: right;\">\n",
       "      <th></th>\n",
       "      <th>BTC-USD</th>\n",
       "      <th>ETH-USD</th>\n",
       "      <th>SHIB-USD</th>\n",
       "      <th>XRP-USD</th>\n",
       "    </tr>\n",
       "  </thead>\n",
       "  <tbody>\n",
       "    <tr>\n",
       "      <th>BTC-USD</th>\n",
       "      <td>1.00</td>\n",
       "      <td>0.78</td>\n",
       "      <td>0.46</td>\n",
       "      <td>0.74</td>\n",
       "    </tr>\n",
       "    <tr>\n",
       "      <th>ETH-USD</th>\n",
       "      <td>0.78</td>\n",
       "      <td>1.00</td>\n",
       "      <td>0.58</td>\n",
       "      <td>0.73</td>\n",
       "    </tr>\n",
       "    <tr>\n",
       "      <th>SHIB-USD</th>\n",
       "      <td>0.46</td>\n",
       "      <td>0.58</td>\n",
       "      <td>1.00</td>\n",
       "      <td>0.47</td>\n",
       "    </tr>\n",
       "    <tr>\n",
       "      <th>XRP-USD</th>\n",
       "      <td>0.74</td>\n",
       "      <td>0.73</td>\n",
       "      <td>0.47</td>\n",
       "      <td>1.00</td>\n",
       "    </tr>\n",
       "  </tbody>\n",
       "</table>\n",
       "</div>"
      ],
      "text/plain": [
       "          BTC-USD  ETH-USD  SHIB-USD  XRP-USD\n",
       "BTC-USD      1.00     0.78      0.46     0.74\n",
       "ETH-USD      0.78     1.00      0.58     0.73\n",
       "SHIB-USD     0.46     0.58      1.00     0.47\n",
       "XRP-USD      0.74     0.73      0.47     1.00"
      ]
     },
     "execution_count": 16,
     "metadata": {},
     "output_type": "execute_result"
    }
   ],
   "source": [
    "corrmat = df.corr()\n",
    "round(corrmat, 2)"
   ]
  },
  {
   "cell_type": "markdown",
   "id": "6b86cf55",
   "metadata": {},
   "source": [
    "### Correlation Heatmap"
   ]
  },
  {
   "cell_type": "code",
   "execution_count": 23,
   "id": "08b5e2eb",
   "metadata": {},
   "outputs": [
    {
     "data": {
      "text/plain": [
       "<AxesSubplot:>"
      ]
     },
     "execution_count": 23,
     "metadata": {},
     "output_type": "execute_result"
    },
    {
     "data": {
      "image/png": "[encoded data removed]",
      "text/plain": [
       "<Figure size 1080x720 with 2 Axes>"
      ]
     },
     "metadata": {},
     "output_type": "display_data"
    }
   ],
   "source": [
    "sns.set(rc={\"figure.figsize\":(15, 10)}) #width=8, height=4\n",
    "sns.heatmap(corrmat)"
   ]
  }
 ],
 "metadata": {
  "kernelspec": {
   "display_name": "Python 3",
   "language": "python",
   "name": "python3"
  },
  "language_info": {
   "codemirror_mode": {
    "name": "ipython",
    "version": 3
   },
   "file_extension": ".py",
   "mimetype": "text/x-python",
   "name": "python",
   "nbconvert_exporter": "python",
   "pygments_lexer": "ipython3",
   "version": "3.9.7"
  }
 },
 "nbformat": 4,
 "nbformat_minor": 5
}
